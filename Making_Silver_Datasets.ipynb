{
 "cells": [
  {
   "cell_type": "markdown",
   "id": "79e0b6c9",
   "metadata": {},
   "source": [
    "# Silver Datasets"
   ]
  },
  {
   "cell_type": "markdown",
   "id": "707a443e",
   "metadata": {},
   "source": [
    "## Importando as bibliotecas"
   ]
  },
  {
   "cell_type": "code",
   "execution_count": 1,
   "id": "91f2e673",
   "metadata": {
    "ExecuteTime": {
     "end_time": "2023-02-21T14:45:28.573748Z",
     "start_time": "2023-02-21T14:45:27.933083Z"
    }
   },
   "outputs": [],
   "source": [
    "import os\n",
    "import numpy             as np\n",
    "import pandas            as pd\n",
    "import matplotlib.pyplot as plt\n",
    "import seaborn           as sns\n",
    "\n",
    "from datetime import datetime\n",
    "\n",
    "pd.set_option(\"display.max_columns\", None)"
   ]
  },
  {
   "cell_type": "markdown",
   "id": "38bd0c32",
   "metadata": {},
   "source": [
    "## Definição de caminhos e diretórios"
   ]
  },
  {
   "cell_type": "code",
   "execution_count": 2,
   "id": "a7c77da7",
   "metadata": {
    "ExecuteTime": {
     "end_time": "2023-02-21T14:45:28.576953Z",
     "start_time": "2023-02-21T14:45:28.574917Z"
    }
   },
   "outputs": [],
   "source": [
    "raw_path    = \"data/raw\"\n",
    "bronze_path = \"data/bronze\"\n",
    "silver_path = \"data/silver\""
   ]
  },
  {
   "cell_type": "markdown",
   "id": "64bbef96",
   "metadata": {},
   "source": [
    "## Helper Functions"
   ]
  },
  {
   "cell_type": "markdown",
   "id": "697593ef",
   "metadata": {},
   "source": [
    "## Criando os datasets em arquivos .csv"
   ]
  },
  {
   "cell_type": "code",
   "execution_count": 3,
   "id": "ff2ebf7c",
   "metadata": {
    "ExecuteTime": {
     "end_time": "2023-02-21T14:45:28.669317Z",
     "start_time": "2023-02-21T14:45:28.578036Z"
    }
   },
   "outputs": [],
   "source": [
    "# Grava dataframe em arquivo .csv\n",
    "def df_to_csv( df, path, mode ):\n",
    "    with open( path, mode ) as csv_file:\n",
    "        df.to_csv( csv_file, index = False, header = True )"
   ]
  },
  {
   "cell_type": "markdown",
   "id": "dd466583",
   "metadata": {},
   "source": [
    "## Calculando os indicadores"
   ]
  },
  {
   "cell_type": "markdown",
   "id": "af206230",
   "metadata": {},
   "source": [
    "### SMA (Simple Moving Average)"
   ]
  },
  {
   "cell_type": "code",
   "execution_count": 4,
   "id": "24120ae7",
   "metadata": {
    "ExecuteTime": {
     "end_time": "2023-02-21T14:45:28.780176Z",
     "start_time": "2023-02-21T14:45:28.670678Z"
    }
   },
   "outputs": [],
   "source": [
    "# Simple Moving Average \n",
    "def SMA(data, ndays, _name): \n",
    "    SMA = pd.Series(data['Close'].rolling(ndays).mean(), name = _name) \n",
    "    data = data.join(SMA) \n",
    "    return data"
   ]
  },
  {
   "cell_type": "markdown",
   "id": "6061d945",
   "metadata": {},
   "source": [
    "### EWMA (Exponentially-weighted Moving Average)"
   ]
  },
  {
   "cell_type": "code",
   "execution_count": 5,
   "id": "f85fdcae",
   "metadata": {
    "ExecuteTime": {
     "end_time": "2023-02-21T14:45:28.864950Z",
     "start_time": "2023-02-21T14:45:28.787290Z"
    }
   },
   "outputs": [],
   "source": [
    "# Calculando a EWMA\n",
    "def EMA(data, col, ndays,_name): \n",
    "    EMA = pd.Series(data[col].ewm(span = ndays, min_periods = ndays - 1).mean(), name = _name) \n",
    "    data = data.join(EMA) \n",
    "    return data"
   ]
  },
  {
   "cell_type": "markdown",
   "id": "35e35da0",
   "metadata": {},
   "source": [
    "### Bollinger Bands"
   ]
  },
  {
   "cell_type": "code",
   "execution_count": 6,
   "id": "dd83d8cf",
   "metadata": {
    "ExecuteTime": {
     "end_time": "2023-02-21T14:45:28.949728Z",
     "start_time": "2023-02-21T14:45:28.870850Z"
    }
   },
   "outputs": [],
   "source": [
    "# Calculando as bandas\n",
    "def BBANDS(data, window):\n",
    "    MA = data.Close.rolling(window).mean()\n",
    "    SD = data.Close.rolling(window).std()\n",
    "    data['UpperBand'] = MA + (2 * SD) \n",
    "    data['LowerBand'] = MA - (2 * SD)\n",
    "    return data"
   ]
  },
  {
   "cell_type": "markdown",
   "id": "0f1ec012",
   "metadata": {},
   "source": [
    "### RSI (Relative Strength Index)"
   ]
  },
  {
   "cell_type": "code",
   "execution_count": 7,
   "id": "066918e5",
   "metadata": {
    "ExecuteTime": {
     "end_time": "2023-02-21T14:45:29.057495Z",
     "start_time": "2023-02-21T14:45:28.951715Z"
    }
   },
   "outputs": [],
   "source": [
    "# Calculando o RSI\n",
    "def rsi(close, periods = 14):\n",
    "    \n",
    "    close_delta = close.diff()\n",
    "\n",
    "    # Make two series: one for lower closes and one for higher closes\n",
    "    up = close_delta.clip(lower=0)\n",
    "    down = -1 * close_delta.clip(upper=0)\n",
    "    \n",
    "    ma_up = up.ewm(com = periods - 1, adjust=True, min_periods = periods).mean()\n",
    "    ma_down = down.ewm(com = periods - 1, adjust=True, min_periods = periods).mean()\n",
    "\n",
    "    rsi = ma_up / ma_down\n",
    "    rsi = 100 - (100/(1 + rsi))\n",
    "    return rsi"
   ]
  },
  {
   "cell_type": "markdown",
   "id": "25902d08",
   "metadata": {},
   "source": [
    "### MFI (Money Flow Index)"
   ]
  },
  {
   "cell_type": "code",
   "execution_count": 8,
   "id": "47b1924a",
   "metadata": {
    "ExecuteTime": {
     "end_time": "2023-02-21T14:45:29.150827Z",
     "start_time": "2023-02-21T14:45:29.061891Z"
    }
   },
   "outputs": [],
   "source": [
    "def gain(x):\n",
    "    return ((x > 0) * x).sum()\n",
    "\n",
    "\n",
    "def loss(x):\n",
    "    return ((x < 0) * x).sum()\n",
    "\n",
    "\n",
    "# Calculate money flow index\n",
    "def mfi(high, low, close, volume, n=14):\n",
    "    typical_price = (high + low + close)/3\n",
    "    money_flow = typical_price * volume\n",
    "    mf_sign = np.where(typical_price > typical_price.shift(1), 1, -1)\n",
    "    signed_mf = money_flow * mf_sign\n",
    "    mf_avg_gain = signed_mf.rolling(n).apply(gain, raw=True)\n",
    "    mf_avg_loss = signed_mf.rolling(n).apply(loss, raw=True)\n",
    "    return (100 - (100 / (1 + (mf_avg_gain / abs(mf_avg_loss))))).to_numpy()\n"
   ]
  },
  {
   "cell_type": "markdown",
   "id": "0edfabd8",
   "metadata": {},
   "source": [
    "### ATR (Average True Range)"
   ]
  },
  {
   "cell_type": "code",
   "execution_count": 9,
   "id": "124d022b",
   "metadata": {
    "ExecuteTime": {
     "end_time": "2023-02-21T14:45:29.257398Z",
     "start_time": "2023-02-21T14:45:29.151931Z"
    }
   },
   "outputs": [],
   "source": [
    "def atr(high, low, close, n=14):\n",
    "    tr = np.amax(np.vstack(((high - low).to_numpy(), (abs(high - close)).to_numpy(), (abs(low - close)).to_numpy())).T, axis=1)\n",
    "    return pd.Series(tr).rolling(n).mean().to_numpy()"
   ]
  },
  {
   "cell_type": "markdown",
   "id": "383ac151",
   "metadata": {},
   "source": [
    "### FI (Force Index)"
   ]
  },
  {
   "cell_type": "code",
   "execution_count": 10,
   "id": "2eeb4b0a",
   "metadata": {
    "ExecuteTime": {
     "end_time": "2023-02-21T14:45:29.342350Z",
     "start_time": "2023-02-21T14:45:29.259964Z"
    }
   },
   "outputs": [],
   "source": [
    "def ForceIndex(data, ndays): \n",
    "    FI = pd.Series(data['Close'].diff(ndays) * data['Volume'], name = 'ForceIndex') \n",
    "    data = data.join(FI) \n",
    "    return data"
   ]
  },
  {
   "cell_type": "markdown",
   "id": "8148d8fd",
   "metadata": {},
   "source": [
    "### Ease of Movement"
   ]
  },
  {
   "cell_type": "code",
   "execution_count": 11,
   "id": "a493be17",
   "metadata": {
    "ExecuteTime": {
     "end_time": "2023-02-21T14:45:29.411142Z",
     "start_time": "2023-02-21T14:45:29.343715Z"
    }
   },
   "outputs": [],
   "source": [
    "# Ease of Movement\n",
    "def EMV(data, ndays): \n",
    "    dm = ((data['High'] + data['Low'])/2) - ((data['High'].shift(1) + data['Low'].shift(1))/2)\n",
    "    br = (data['Volume'] / 100000000) / ((data['High'] - data['Low']))\n",
    "    EMV = dm / br \n",
    "    EMV_MA = pd.Series(EMV.rolling(ndays).mean(), name = 'EMV') \n",
    "    data = data.join(EMV_MA) \n",
    "    return data "
   ]
  },
  {
   "cell_type": "markdown",
   "id": "cb884b31",
   "metadata": {},
   "source": [
    "## Carregando os dados para o dataframe df_silver"
   ]
  },
  {
   "cell_type": "code",
   "execution_count": 12,
   "id": "439bbd78",
   "metadata": {
    "ExecuteTime": {
     "end_time": "2023-02-21T14:48:44.709656Z",
     "start_time": "2023-02-21T14:45:29.412335Z"
    }
   },
   "outputs": [
    {
     "name": "stdout",
     "output_type": "stream",
     "text": [
      "entrou\n",
      "Processando o arquivo ETHUSDT-5m.csv 21.361140251159668 Mb\n",
      "Processando o arquivo BTCUSDT-1d.csv 0.20807456970214844 Mb\n",
      "Processando o arquivo BTCUSDT-1m.csv 49.28406047821045 Mb\n",
      "Processando o arquivo BTCUSDT-2h.csv 1.4466238021850586 Mb\n",
      "Processando o arquivo BTCUSDT-5m.csv 22.713252067565918 Mb\n",
      "Processando o arquivo BUSDUSDT-1d.csv 0.12596511840820312 Mb\n",
      "Processando o arquivo BUSDUSDT-1m.csv 41.569172859191895 Mb\n",
      "Processando o arquivo BUSDUSDT-2h.csv 1.3057441711425781 Mb\n",
      "Processando o arquivo BUSDUSDT-5m.csv 19.603483200073242 Mb\n",
      "Processando o arquivo DOGEUSDT-1d.csv 0.1420278549194336 Mb\n",
      "Processando o arquivo DOGEUSDT-1m.csv 47.28410530090332 Mb\n",
      "Processando o arquivo DOGEUSDT-2h.csv 45.32038116455078 Mb\n"
     ]
    },
    {
     "name": "stderr",
     "output_type": "stream",
     "text": [
      "/tmp/ipykernel_40919/1251367882.py:13: DtypeWarning: Columns (0,1,2,3,4,5,6,7,8,9,10,11) have mixed types. Specify dtype option on import or set low_memory=False.\n",
      "  df_silver = pd.read_csv( f\"{bronze_path}/{file}\" )\n"
     ]
    },
    {
     "name": "stdout",
     "output_type": "stream",
     "text": [
      "ERROR: '<' not supported between instances of 'int' and 'str'\n",
      "Processando o arquivo DOGEUSDT-5m.csv 20.431530952453613 Mb\n",
      "Processando o arquivo ETCUSDT-1d.csv 0.16420364379882812 Mb\n",
      "Processando o arquivo ETCUSDT-1m.csv 38.00272560119629 Mb\n",
      "Processando o arquivo ETCUSDT-2h.csv 1.2776813507080078 Mb\n",
      "Processando o arquivo ETCUSDT-5m.csv 18.37930393218994 Mb\n",
      "Processando o arquivo ETHUSDT-1d.csv 0.20158863067626953 Mb\n",
      "Processando o arquivo ETHUSDT-1m.csv 50.84156322479248 Mb\n",
      "Processando o arquivo LTCUSDT-1d.csv 0.1815013885498047 Mb\n",
      "Processando o arquivo LTCUSDT-1m.csv 42.63188171386719 Mb\n",
      "Processando o arquivo LTCUSDT-2h.csv 1.2812957763671875 Mb\n",
      "Processando o arquivo LTCUSDT-5m.csv 18.942026138305664 Mb\n",
      "Processando o arquivo MANAUSDT-1d.csv 0.08990859985351562 Mb\n",
      "Processando o arquivo MANAUSDT-1m.csv 43.837979316711426 Mb\n",
      "Processando o arquivo MANAUSDT-2h.csv 0.983454704284668 Mb\n",
      "Processando o arquivo MANAUSDT-5m.csv 18.775035858154297 Mb\n",
      "Processando o arquivo XMRUSDT-1m.csv 37.6027774810791 Mb\n",
      "ERROR: Invalid value NaN (not a number)\n",
      "Processando o arquivo XMRUSDT-2h.csv 1.2415437698364258 Mb\n",
      "Processando o arquivo XMRUSDT-5m.csv 18.224634170532227 Mb\n",
      "Processando o arquivo XRPUSDT-1d.csv 0.17926692962646484 Mb\n",
      "Processando o arquivo XRPUSDT-1m.csv 45.92422008514404 Mb\n",
      "Processando o arquivo XRPUSDT-2h.csv 1.325204849243164 Mb\n",
      "Processando o arquivo XRPUSDT-5m.csv 19.705625534057617 Mb\n",
      "Processando o arquivo ZECUSDT-1d.csv 0.13926315307617188 Mb\n",
      "Processando o arquivo ZECUSDT-1m.csv 28.594440460205078 Mb\n",
      "ERROR: Invalid value NaN (not a number)\n"
     ]
    },
    {
     "data": {
      "text/html": [
       "<div>\n",
       "<style scoped>\n",
       "    .dataframe tbody tr th:only-of-type {\n",
       "        vertical-align: middle;\n",
       "    }\n",
       "\n",
       "    .dataframe tbody tr th {\n",
       "        vertical-align: top;\n",
       "    }\n",
       "\n",
       "    .dataframe thead th {\n",
       "        text-align: right;\n",
       "    }\n",
       "</style>\n",
       "<table border=\"1\" class=\"dataframe\">\n",
       "  <thead>\n",
       "    <tr style=\"text-align: right;\">\n",
       "      <th></th>\n",
       "      <th>Open_time</th>\n",
       "      <th>Open</th>\n",
       "      <th>High</th>\n",
       "      <th>Low</th>\n",
       "      <th>Close</th>\n",
       "      <th>Volume</th>\n",
       "      <th>Close_time</th>\n",
       "      <th>Quote_asset_volume</th>\n",
       "      <th>Number_of_trades</th>\n",
       "      <th>Taker_buy_base_asset_volume</th>\n",
       "      <th>Taker_buy_quote_asset_volume</th>\n",
       "      <th>Ignore</th>\n",
       "    </tr>\n",
       "  </thead>\n",
       "  <tbody>\n",
       "    <tr>\n",
       "      <th>0</th>\n",
       "      <td>2022-05-31 21:00:00</td>\n",
       "      <td>93.3</td>\n",
       "      <td>93.5</td>\n",
       "      <td>93.2</td>\n",
       "      <td>93.4</td>\n",
       "      <td>164.682</td>\n",
       "      <td>1.654042e+12</td>\n",
       "      <td>15376.8323</td>\n",
       "      <td>51.0</td>\n",
       "      <td>116.138</td>\n",
       "      <td>10844.4939</td>\n",
       "      <td>0.0</td>\n",
       "    </tr>\n",
       "    <tr>\n",
       "      <th>1</th>\n",
       "      <td>2022-05-31 21:01:00</td>\n",
       "      <td>93.4</td>\n",
       "      <td>93.7</td>\n",
       "      <td>93.4</td>\n",
       "      <td>93.5</td>\n",
       "      <td>195.477</td>\n",
       "      <td>1.654042e+12</td>\n",
       "      <td>18264.5980</td>\n",
       "      <td>32.0</td>\n",
       "      <td>188.862</td>\n",
       "      <td>17645.6113</td>\n",
       "      <td>0.0</td>\n",
       "    </tr>\n",
       "    <tr>\n",
       "      <th>2</th>\n",
       "      <td>2022-05-31 21:02:00</td>\n",
       "      <td>93.6</td>\n",
       "      <td>93.7</td>\n",
       "      <td>93.5</td>\n",
       "      <td>93.7</td>\n",
       "      <td>117.241</td>\n",
       "      <td>1.654042e+12</td>\n",
       "      <td>10970.8439</td>\n",
       "      <td>31.0</td>\n",
       "      <td>28.144</td>\n",
       "      <td>2634.5723</td>\n",
       "      <td>0.0</td>\n",
       "    </tr>\n",
       "    <tr>\n",
       "      <th>3</th>\n",
       "      <td>2022-05-31 21:03:00</td>\n",
       "      <td>93.7</td>\n",
       "      <td>93.8</td>\n",
       "      <td>93.7</td>\n",
       "      <td>93.8</td>\n",
       "      <td>19.300</td>\n",
       "      <td>1.654042e+12</td>\n",
       "      <td>1808.5167</td>\n",
       "      <td>12.0</td>\n",
       "      <td>19.300</td>\n",
       "      <td>1808.5167</td>\n",
       "      <td>0.0</td>\n",
       "    </tr>\n",
       "    <tr>\n",
       "      <th>4</th>\n",
       "      <td>2022-05-31 21:04:00</td>\n",
       "      <td>93.8</td>\n",
       "      <td>93.9</td>\n",
       "      <td>93.8</td>\n",
       "      <td>93.8</td>\n",
       "      <td>41.528</td>\n",
       "      <td>1.654042e+12</td>\n",
       "      <td>3896.6566</td>\n",
       "      <td>18.0</td>\n",
       "      <td>32.039</td>\n",
       "      <td>3006.5884</td>\n",
       "      <td>0.0</td>\n",
       "    </tr>\n",
       "    <tr>\n",
       "      <th>...</th>\n",
       "      <td>...</td>\n",
       "      <td>...</td>\n",
       "      <td>...</td>\n",
       "      <td>...</td>\n",
       "      <td>...</td>\n",
       "      <td>...</td>\n",
       "      <td>...</td>\n",
       "      <td>...</td>\n",
       "      <td>...</td>\n",
       "      <td>...</td>\n",
       "      <td>...</td>\n",
       "      <td>...</td>\n",
       "    </tr>\n",
       "    <tr>\n",
       "      <th>95</th>\n",
       "      <td>2022-05-31 22:35:00</td>\n",
       "      <td>94.6</td>\n",
       "      <td>94.6</td>\n",
       "      <td>94.2</td>\n",
       "      <td>94.2</td>\n",
       "      <td>205.157</td>\n",
       "      <td>1.654047e+12</td>\n",
       "      <td>19357.7444</td>\n",
       "      <td>86.0</td>\n",
       "      <td>27.664</td>\n",
       "      <td>2606.7127</td>\n",
       "      <td>0.0</td>\n",
       "    </tr>\n",
       "    <tr>\n",
       "      <th>96</th>\n",
       "      <td>2022-05-31 22:36:00</td>\n",
       "      <td>94.2</td>\n",
       "      <td>94.2</td>\n",
       "      <td>94.2</td>\n",
       "      <td>94.2</td>\n",
       "      <td>21.736</td>\n",
       "      <td>1.654047e+12</td>\n",
       "      <td>2047.5312</td>\n",
       "      <td>15.0</td>\n",
       "      <td>21.736</td>\n",
       "      <td>2047.5312</td>\n",
       "      <td>0.0</td>\n",
       "    </tr>\n",
       "    <tr>\n",
       "      <th>97</th>\n",
       "      <td>2022-05-31 22:37:00</td>\n",
       "      <td>94.2</td>\n",
       "      <td>94.2</td>\n",
       "      <td>94.2</td>\n",
       "      <td>94.2</td>\n",
       "      <td>4.774</td>\n",
       "      <td>1.654047e+12</td>\n",
       "      <td>449.7108</td>\n",
       "      <td>8.0</td>\n",
       "      <td>4.774</td>\n",
       "      <td>449.7108</td>\n",
       "      <td>0.0</td>\n",
       "    </tr>\n",
       "    <tr>\n",
       "      <th>98</th>\n",
       "      <td>2022-05-31 22:38:00</td>\n",
       "      <td>94.2</td>\n",
       "      <td>94.2</td>\n",
       "      <td>94.2</td>\n",
       "      <td>94.2</td>\n",
       "      <td>25.970</td>\n",
       "      <td>1.654048e+12</td>\n",
       "      <td>2446.3740</td>\n",
       "      <td>13.0</td>\n",
       "      <td>25.970</td>\n",
       "      <td>2446.3740</td>\n",
       "      <td>0.0</td>\n",
       "    </tr>\n",
       "    <tr>\n",
       "      <th>99</th>\n",
       "      <td>2022-05-31 22:39:00</td>\n",
       "      <td>94.2</td>\n",
       "      <td>94.4</td>\n",
       "      <td>94.2</td>\n",
       "      <td>94.4</td>\n",
       "      <td>21.593</td>\n",
       "      <td>1.654048e+12</td>\n",
       "      <td>2035.6239</td>\n",
       "      <td>15.0</td>\n",
       "      <td>21.593</td>\n",
       "      <td>2035.6239</td>\n",
       "      <td>0.0</td>\n",
       "    </tr>\n",
       "  </tbody>\n",
       "</table>\n",
       "<p>100 rows × 12 columns</p>\n",
       "</div>"
      ],
      "text/plain": [
       "             Open_time  Open  High   Low  Close   Volume    Close_time  \\\n",
       "0  2022-05-31 21:00:00  93.3  93.5  93.2   93.4  164.682  1.654042e+12   \n",
       "1  2022-05-31 21:01:00  93.4  93.7  93.4   93.5  195.477  1.654042e+12   \n",
       "2  2022-05-31 21:02:00  93.6  93.7  93.5   93.7  117.241  1.654042e+12   \n",
       "3  2022-05-31 21:03:00  93.7  93.8  93.7   93.8   19.300  1.654042e+12   \n",
       "4  2022-05-31 21:04:00  93.8  93.9  93.8   93.8   41.528  1.654042e+12   \n",
       "..                 ...   ...   ...   ...    ...      ...           ...   \n",
       "95 2022-05-31 22:35:00  94.6  94.6  94.2   94.2  205.157  1.654047e+12   \n",
       "96 2022-05-31 22:36:00  94.2  94.2  94.2   94.2   21.736  1.654047e+12   \n",
       "97 2022-05-31 22:37:00  94.2  94.2  94.2   94.2    4.774  1.654047e+12   \n",
       "98 2022-05-31 22:38:00  94.2  94.2  94.2   94.2   25.970  1.654048e+12   \n",
       "99 2022-05-31 22:39:00  94.2  94.4  94.2   94.4   21.593  1.654048e+12   \n",
       "\n",
       "    Quote_asset_volume  Number_of_trades  Taker_buy_base_asset_volume  \\\n",
       "0           15376.8323              51.0                      116.138   \n",
       "1           18264.5980              32.0                      188.862   \n",
       "2           10970.8439              31.0                       28.144   \n",
       "3            1808.5167              12.0                       19.300   \n",
       "4            3896.6566              18.0                       32.039   \n",
       "..                 ...               ...                          ...   \n",
       "95          19357.7444              86.0                       27.664   \n",
       "96           2047.5312              15.0                       21.736   \n",
       "97            449.7108               8.0                        4.774   \n",
       "98           2446.3740              13.0                       25.970   \n",
       "99           2035.6239              15.0                       21.593   \n",
       "\n",
       "    Taker_buy_quote_asset_volume  Ignore  \n",
       "0                     10844.4939     0.0  \n",
       "1                     17645.6113     0.0  \n",
       "2                      2634.5723     0.0  \n",
       "3                      1808.5167     0.0  \n",
       "4                      3006.5884     0.0  \n",
       "..                           ...     ...  \n",
       "95                     2606.7127     0.0  \n",
       "96                     2047.5312     0.0  \n",
       "97                      449.7108     0.0  \n",
       "98                     2446.3740     0.0  \n",
       "99                     2035.6239     0.0  \n",
       "\n",
       "[100 rows x 12 columns]"
      ]
     },
     "execution_count": 12,
     "metadata": {},
     "output_type": "execute_result"
    }
   ],
   "source": [
    "def silver_datasets_generation():  \n",
    "    file_list = []\n",
    "       \n",
    "    if os.path.exists( bronze_path ):\n",
    "        print('entrou')\n",
    "        file_list = os.listdir( bronze_path )\n",
    "\n",
    "        for file in file_list:\n",
    "            if '.csv' in file:\n",
    "                print( f'Processando o arquivo {file}', os.path.getsize(f\"{bronze_path}/{file}\")/(1024**2), 'Mb')\n",
    "                try:\n",
    "                    # loadin the bronze dataset into df_silver\n",
    "                    df_silver = pd.read_csv( f\"{bronze_path}/{file}\" )\n",
    "                    \n",
    "                    # sorting the df_silver by the open time\n",
    "                    df_silver.sort_values( \"Open_time\" )\n",
    "                                        \n",
    "                    # converting Open_time and Close_time columns to datetime\n",
    "                    df_silver[ 'Open_time' ] = df_silver[ 'Open_time' ].apply( lambda x: datetime.fromtimestamp( np.round( x/1000, 0 ) ) )\n",
    "                    df_silver[ 'Close_time' ] = df_silver[ 'Close_time' ].apply( lambda x: datetime.fromtimestamp( np.round( x/1000, 0 ) ) )\n",
    "                    \n",
    "                    # Adding the mean price column\n",
    "                    df_silver[ \"Mean\"] = df_silver[[\"Open\",\"High\",\"Low\",\"Close\"]].sum( axis = 1 ) / 4\n",
    "                    df_silver = df_silver [[\"Open_time\",\"Open\",\"High\",\"Low\",\"Close\",\"Mean\",\"Volume\",\"Close_time\",\"Quote_asset_volume\",\"Number_of_trades\",\"Taker_buy_base_asset_volume\",\"Taker_buy_quote_asset_volume\"]]\n",
    "                    \n",
    "                    ########################################################################################################\n",
    "                    # Including the Technical Indicators\n",
    "                    ########################################################################################################\n",
    "\n",
    "                    # Long term SMA (Simple Moving Average)\n",
    "                    df_silver = SMA(df_silver, 50, 'LT_SMA')\n",
    "\n",
    "                    # Short term SMA (Simple Moving Average)\n",
    "                    df_silver = SMA(df_silver, 10, 'ST_SMA')\n",
    "\n",
    "                    # Long term EWMA (Exponentially Moving Average)\n",
    "                    df_silver = EMA(df_silver, 'Close', 26, 'LT_EMA')\n",
    "                    \n",
    "                    # Short term EWMA (Exponentially Moving Average)\n",
    "                    df_silver = EMA(df_silver, 'Close', 12, 'ST_EMA')\n",
    "\n",
    "                    # Subtract the 26-day EMA from the 12-Day EMA to get the MACD\n",
    "                    df_silver[\"MACD\"] = df_silver[\"ST_EMA\"] - df_silver[\"LT_EMA\"]  \n",
    "\n",
    "                    # Get the 9-Day EMA of the MACD for the Trigger line\n",
    "                    df_silver = EMA(df_silver, 'MACD', 9, 'Trigger_Line')                  \n",
    "\n",
    "                    # Calculate the difference between the MACD - Trigger for the Convergence/Divergence value\n",
    "                    df_silver[\"MADC_H\"] = df_silver[\"MACD\"] - df_silver[\"Trigger_Line\"]\n",
    "\n",
    "                    # Boiler bands\n",
    "                    df_silver = BBANDS(df_silver, 50)\n",
    "\n",
    "                    # RSI (Relative Strength Index)\n",
    "                    df_silver[\"RSI\"] = rsi(df_silver[\"Close\"])\n",
    "\n",
    "                    # MFI (Money Flow index)\n",
    "                    df_silver[\"MFI\"] = mfi(df_silver[\"High\"], df_silver[\"Low\"], df_silver[\"Close\"], df_silver[\"Volume\"], 14)\n",
    "\n",
    "                    # ATR (Average True Range)\n",
    "                    df_silver['ATR'] = atr(df_silver['High'], df_silver['Low'], df_silver['Close'], 14)\n",
    "\n",
    "                    # Force Index\n",
    "                    df_silver = ForceIndex(df_silver, 1)\n",
    "\n",
    "                    # EMV (Ease Movement)\n",
    "                    df_silver = EMV(df_silver, 14)\n",
    "\n",
    "                    # Dropando as linhas vazias\n",
    "                    df_silver.dropna( inplace = True )\n",
    "\n",
    "                    # reset index \n",
    "                    df_silver.reset_index( inplace = True, drop = True )\n",
    "                                                          \n",
    "\n",
    "                    # Grava dados no silver dataset\n",
    "                    try:\n",
    "                        if os.path.exists( silver_path ):\n",
    "                            # pass\n",
    "                            df_to_csv( df_silver, f\"{silver_path}/{file}\", 'a' )\n",
    "                        \n",
    "                        else:\n",
    "                            os.mkdir( silver_path )\n",
    "                            df_to_csv( df_silver, f\"{df_silver}/{file}\", 'a' )\n",
    "\n",
    "                    except Exception as ex:\n",
    "                        print( f\"ERROR: {ex}\" )\n",
    "                        pass\n",
    "\n",
    "                except Exception as ex:\n",
    "                    print( f\"ERROR: {ex}\" )                \n",
    "                \n",
    "        return df_silver\n",
    "    else:\n",
    "        return None\n",
    "    \n",
    "df_silver = silver_datasets_generation()     \n",
    "df_silver.head(100)"
   ]
  }
 ],
 "metadata": {
  "kernelspec": {
   "display_name": "Python 3 (ipykernel)",
   "language": "python",
   "name": "python3"
  },
  "language_info": {
   "codemirror_mode": {
    "name": "ipython",
    "version": 3
   },
   "file_extension": ".py",
   "mimetype": "text/x-python",
   "name": "python",
   "nbconvert_exporter": "python",
   "pygments_lexer": "ipython3",
   "version": "3.9.13"
  }
 },
 "nbformat": 4,
 "nbformat_minor": 5
}
