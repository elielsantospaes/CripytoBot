{
 "cells": [
  {
   "cell_type": "markdown",
   "id": "a5e9a740",
   "metadata": {},
   "source": [
    "# Making Silver Datasets"
   ]
  },
  {
   "cell_type": "code",
   "execution_count": 49,
   "id": "68f50607",
   "metadata": {
    "ExecuteTime": {
     "end_time": "2022-12-20T22:27:11.249946Z",
     "start_time": "2022-12-20T22:27:11.243008Z"
    }
   },
   "outputs": [],
   "source": [
    "import os\n",
    "import numpy             as np\n",
    "import pandas            as pd\n",
    "import matplotlib.pyplot as plt\n",
    "import seaborn           as sns\n",
    "\n",
    "from datetime import datetime"
   ]
  },
  {
   "cell_type": "markdown",
   "id": "a4a1fae1",
   "metadata": {},
   "source": [
    "### Definição de caminhos e diretórios"
   ]
  },
  {
   "cell_type": "code",
   "execution_count": 104,
   "id": "8bc3870e",
   "metadata": {
    "ExecuteTime": {
     "end_time": "2022-12-20T23:08:16.205925Z",
     "start_time": "2022-12-20T23:08:16.203840Z"
    }
   },
   "outputs": [],
   "source": [
    "bronze_path = \"data/bronze\"\n",
    "silver_path = \"data/silver\""
   ]
  },
  {
   "cell_type": "markdown",
   "id": "697593ef",
   "metadata": {},
   "source": [
    "### Criando os datasets"
   ]
  },
  {
   "cell_type": "code",
   "execution_count": 111,
   "id": "439bbd78",
   "metadata": {
    "ExecuteTime": {
     "end_time": "2022-12-20T23:11:09.753399Z",
     "start_time": "2022-12-20T23:11:05.375243Z"
    }
   },
   "outputs": [
    {
     "name": "stdout",
     "output_type": "stream",
     "text": [
      "ERROR: [Errno 36] File name too long: '                 Open_time     Open     High      Low    Close       Mean  \\\\\\n0      2022-04-30 21:00:00  2726.67  2729.36  2725.86  2728.04  2727.4825   \\n1      2022-04-30 21:01:00  2728.05  2728.59  2726.51  2727.20  2727.5875   \\n2      2022-04-30 21:02:00  2727.21  2731.74  2727.20  2731.67  2729.4550   \\n3      2022-04-30 21:03:00  2731.67  2733.17  2727.18  2733.16  2731.2950   \\n4      2022-04-30 21:04:00  2733.16  2733.17  2730.84  2733.03  2732.5500   \\n...                    ...      ...      ...      ...      ...        ...   \\n480955 2022-11-30 20:55:00  1294.26  1295.00  1293.73  1293.83  1294.2050   \\n480956 2022-11-30 20:56:00  1293.84  1294.89  1293.07  1294.49  1294.0725   \\n480957 2022-11-30 20:57:00  1294.49  1295.56  1294.10  1294.27  1294.6050   \\n480958 2022-11-30 20:58:00  1294.27  1294.86  1293.99  1294.49  1294.4025   \\n480959 2022-11-30 20:59:00  1294.48  1294.56  1294.32  1294.46  1294.4550   \\n\\n           Volume          Close_time  Quote_asset_volume  Number_of_trades  \\\\\\n0        628.9811 2022-04-30 21:01:00        1.715749e+06               700   \\n1        368.7584 2022-04-30 21:02:00        1.005854e+06               484   \\n2        563.1505 2022-04-30 21:03:00        1.537359e+06               705   \\n3       3325.9394 2022-04-30 21:04:00        9.073275e+06              1266   \\n4        278.3504 2022-04-30 21:05:00        7.605418e+05               496   \\n...           ...                 ...                 ...               ...   \\n480955   390.5727 2022-11-30 20:56:00        5.056247e+05               417   \\n480956   208.1471 2022-11-30 20:57:00        2.692826e+05               530   \\n480957   361.2319 2022-11-30 20:58:00        4.677677e+05               496   \\n480958   214.4540 2022-11-30 20:59:00        2.775767e+05               316   \\n480959   146.1474 2022-11-30 21:00:00        1.891801e+05               251   \\n\\n        Taker_buy_base_asset_volume  Taker_buy_quote_asset_volume  \\n0                          348.2220                  9.498775e+05  \\n1                          279.6466                  7.628195e+05  \\n2                          364.8842                  9.959794e+05  \\n3                         2400.7013                  6.548084e+06  \\n4                          137.1773                  3.747891e+05  \\n...                             ...                           ...  \\n480955                     214.9151                  2.782402e+05  \\n480956                      93.1656                  1.205305e+05  \\n480957                     129.3403                  1.674646e+05  \\n480958                     121.8913                  1.577529e+05  \\n480959                     101.7994                  1.317708e+05  \\n\\n[480960 rows x 12 columns]/ETHUSDT-1m.csv'\n"
     ]
    }
   ],
   "source": [
    "def silver_datasets_generation():  \n",
    "    file_list = []\n",
    "    df_silver = pd.DataFrame()\n",
    "    \n",
    "    if os.path.exists( bronze_path ):\n",
    "        file_list = os.listdir( bronze_path )\n",
    "\n",
    "        for file in file_list[0:1]:\n",
    "            if '.csv' in file:\n",
    "                try:\n",
    "                    # loadin the bronze dataset into df_silver\n",
    "                    df_silver = pd.read_csv( f\"{bronze_path}/{file}\" )\n",
    "                    # sorting the df_silver by the open time\n",
    "                    df_silver.sort_values( \"Open_time\" )\n",
    "                    # dropping the ignore column\n",
    "                    df_silver.drop( \"Ignore\", axis = 1, inplace = True )\n",
    "                    # reset index \n",
    "                    df_silver.reset_index( inplace = True, drop = True )\n",
    "                    \n",
    "                    # converting Open_time and Close_time columns to datetime\n",
    "                    df_silver[ 'Open_time' ] = df_silver[ 'Open_time' ].apply( lambda x: datetime.fromtimestamp( np.round( x/1000, 0 ) ) )\n",
    "                    df_silver[ 'Close_time' ] = df_silver[ 'Close_time' ].apply( lambda x: datetime.fromtimestamp( np.round( x/1000, 0 ) ) )\n",
    "                    \n",
    "                    # Adding the mean price column\n",
    "                    df_silver[ \"Mean\"] = df_silver[[\"Open\",\"High\",\"Low\",\"Close\"]].sum( axis = 1 ) / 4\n",
    "                    df_silver = df_silver [[\"Open_time\",\"Open\",\"High\",\"Low\",\"Close\",\"Mean\",\"Volume\",\"Close_time\",\"Quote_asset_volume\",\"Number_of_trades\",\"Taker_buy_base_asset_volume\",\"Taker_buy_quote_asset_volume\"]]\n",
    "                    \n",
    "                except Exception as ex:\n",
    "                    print( f\"ERROR: {ex}\" )\n",
    "                \n",
    "                try:\n",
    "                    if os.path.exists( silver_path ):\n",
    "                        df_to_csv( df_silver, f\"{df_silver}/{file}\" )\n",
    "                    \n",
    "                    else:\n",
    "                        os.mkdir( silver_path )\n",
    "                        df_to_csv( df_silver, f\"{df_silver}/{file}\" )\n",
    "                \n",
    "                except Exception as ex:\n",
    "                    print( f\"ERROR: {ex}\" )\n",
    "                \n",
    "    return df_silver\n",
    "df_silver = silver_datasets_generation()     "
   ]
  },
  {
   "cell_type": "code",
   "execution_count": 101,
   "id": "f0d6c5cd",
   "metadata": {
    "ExecuteTime": {
     "end_time": "2022-12-20T23:02:39.151880Z",
     "start_time": "2022-12-20T23:02:39.142152Z"
    }
   },
   "outputs": [
    {
     "data": {
      "text/html": [
       "<div>\n",
       "<style scoped>\n",
       "    .dataframe tbody tr th:only-of-type {\n",
       "        vertical-align: middle;\n",
       "    }\n",
       "\n",
       "    .dataframe tbody tr th {\n",
       "        vertical-align: top;\n",
       "    }\n",
       "\n",
       "    .dataframe thead th {\n",
       "        text-align: right;\n",
       "    }\n",
       "</style>\n",
       "<table border=\"1\" class=\"dataframe\">\n",
       "  <thead>\n",
       "    <tr style=\"text-align: right;\">\n",
       "      <th></th>\n",
       "      <th>Open_time</th>\n",
       "      <th>Open</th>\n",
       "      <th>High</th>\n",
       "      <th>Low</th>\n",
       "      <th>Close</th>\n",
       "      <th>Mean</th>\n",
       "      <th>Volume</th>\n",
       "      <th>Close_time</th>\n",
       "      <th>Quote_asset_volume</th>\n",
       "      <th>Number_of_trades</th>\n",
       "      <th>Taker_buy_base_asset_volume</th>\n",
       "      <th>Taker_buy_quote_asset_volume</th>\n",
       "    </tr>\n",
       "  </thead>\n",
       "  <tbody>\n",
       "    <tr>\n",
       "      <th>0</th>\n",
       "      <td>2022-04-30 21:00:00</td>\n",
       "      <td>2726.67</td>\n",
       "      <td>2729.36</td>\n",
       "      <td>2725.86</td>\n",
       "      <td>2728.04</td>\n",
       "      <td>2727.4825</td>\n",
       "      <td>628.9811</td>\n",
       "      <td>2022-04-30 21:01:00</td>\n",
       "      <td>1.715749e+06</td>\n",
       "      <td>700</td>\n",
       "      <td>348.2220</td>\n",
       "      <td>9.498775e+05</td>\n",
       "    </tr>\n",
       "    <tr>\n",
       "      <th>1</th>\n",
       "      <td>2022-04-30 21:01:00</td>\n",
       "      <td>2728.05</td>\n",
       "      <td>2728.59</td>\n",
       "      <td>2726.51</td>\n",
       "      <td>2727.20</td>\n",
       "      <td>2727.5875</td>\n",
       "      <td>368.7584</td>\n",
       "      <td>2022-04-30 21:02:00</td>\n",
       "      <td>1.005854e+06</td>\n",
       "      <td>484</td>\n",
       "      <td>279.6466</td>\n",
       "      <td>7.628195e+05</td>\n",
       "    </tr>\n",
       "    <tr>\n",
       "      <th>2</th>\n",
       "      <td>2022-04-30 21:02:00</td>\n",
       "      <td>2727.21</td>\n",
       "      <td>2731.74</td>\n",
       "      <td>2727.20</td>\n",
       "      <td>2731.67</td>\n",
       "      <td>2729.4550</td>\n",
       "      <td>563.1505</td>\n",
       "      <td>2022-04-30 21:03:00</td>\n",
       "      <td>1.537359e+06</td>\n",
       "      <td>705</td>\n",
       "      <td>364.8842</td>\n",
       "      <td>9.959794e+05</td>\n",
       "    </tr>\n",
       "    <tr>\n",
       "      <th>3</th>\n",
       "      <td>2022-04-30 21:03:00</td>\n",
       "      <td>2731.67</td>\n",
       "      <td>2733.17</td>\n",
       "      <td>2727.18</td>\n",
       "      <td>2733.16</td>\n",
       "      <td>2731.2950</td>\n",
       "      <td>3325.9394</td>\n",
       "      <td>2022-04-30 21:04:00</td>\n",
       "      <td>9.073275e+06</td>\n",
       "      <td>1266</td>\n",
       "      <td>2400.7013</td>\n",
       "      <td>6.548084e+06</td>\n",
       "    </tr>\n",
       "    <tr>\n",
       "      <th>4</th>\n",
       "      <td>2022-04-30 21:04:00</td>\n",
       "      <td>2733.16</td>\n",
       "      <td>2733.17</td>\n",
       "      <td>2730.84</td>\n",
       "      <td>2733.03</td>\n",
       "      <td>2732.5500</td>\n",
       "      <td>278.3504</td>\n",
       "      <td>2022-04-30 21:05:00</td>\n",
       "      <td>7.605418e+05</td>\n",
       "      <td>496</td>\n",
       "      <td>137.1773</td>\n",
       "      <td>3.747891e+05</td>\n",
       "    </tr>\n",
       "  </tbody>\n",
       "</table>\n",
       "</div>"
      ],
      "text/plain": [
       "            Open_time     Open     High      Low    Close       Mean  \\\n",
       "0 2022-04-30 21:00:00  2726.67  2729.36  2725.86  2728.04  2727.4825   \n",
       "1 2022-04-30 21:01:00  2728.05  2728.59  2726.51  2727.20  2727.5875   \n",
       "2 2022-04-30 21:02:00  2727.21  2731.74  2727.20  2731.67  2729.4550   \n",
       "3 2022-04-30 21:03:00  2731.67  2733.17  2727.18  2733.16  2731.2950   \n",
       "4 2022-04-30 21:04:00  2733.16  2733.17  2730.84  2733.03  2732.5500   \n",
       "\n",
       "      Volume          Close_time  Quote_asset_volume  Number_of_trades  \\\n",
       "0   628.9811 2022-04-30 21:01:00        1.715749e+06               700   \n",
       "1   368.7584 2022-04-30 21:02:00        1.005854e+06               484   \n",
       "2   563.1505 2022-04-30 21:03:00        1.537359e+06               705   \n",
       "3  3325.9394 2022-04-30 21:04:00        9.073275e+06              1266   \n",
       "4   278.3504 2022-04-30 21:05:00        7.605418e+05               496   \n",
       "\n",
       "   Taker_buy_base_asset_volume  Taker_buy_quote_asset_volume  \n",
       "0                     348.2220                  9.498775e+05  \n",
       "1                     279.6466                  7.628195e+05  \n",
       "2                     364.8842                  9.959794e+05  \n",
       "3                    2400.7013                  6.548084e+06  \n",
       "4                     137.1773                  3.747891e+05  "
      ]
     },
     "execution_count": 101,
     "metadata": {},
     "output_type": "execute_result"
    }
   ],
   "source": [
    "df_silver.head()"
   ]
  },
  {
   "cell_type": "markdown",
   "id": "8f75f2b7",
   "metadata": {
    "ExecuteTime": {
     "end_time": "2022-12-20T22:54:27.671625Z",
     "start_time": "2022-12-20T22:54:27.668754Z"
    }
   },
   "source": [
    "### Gravando os silvers datasets"
   ]
  },
  {
   "cell_type": "code",
   "execution_count": 102,
   "id": "8b441d16",
   "metadata": {
    "ExecuteTime": {
     "end_time": "2022-12-20T23:06:23.005722Z",
     "start_time": "2022-12-20T23:06:23.002825Z"
    }
   },
   "outputs": [],
   "source": [
    "def df_to_csv( df, path ):\n",
    "    with open( path, 'w' ) as csv_file:\n",
    "        df.to_csv( cdv_file, index = False )"
   ]
  },
  {
   "cell_type": "code",
   "execution_count": null,
   "id": "ddcdf33a",
   "metadata": {},
   "outputs": [],
   "source": []
  }
 ],
 "metadata": {
  "kernelspec": {
   "display_name": "Python 3 (ipykernel)",
   "language": "python",
   "name": "python3"
  },
  "language_info": {
   "codemirror_mode": {
    "name": "ipython",
    "version": 3
   },
   "file_extension": ".py",
   "mimetype": "text/x-python",
   "name": "python",
   "nbconvert_exporter": "python",
   "pygments_lexer": "ipython3",
   "version": "3.8.10"
  }
 },
 "nbformat": 4,
 "nbformat_minor": 5
}
