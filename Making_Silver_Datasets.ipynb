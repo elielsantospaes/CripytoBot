{
 "cells": [
  {
   "cell_type": "code",
   "execution_count": 5,
   "metadata": {},
   "outputs": [],
   "source": [
    "import os\n",
    "import numpy             as np\n",
    "import pandas            as pd\n",
    "import matplotlib.pyplot as plt\n",
    "import seaborn           as sns\n",
    "\n",
    "from datetime import datetime"
   ]
  },
  {
   "attachments": {},
   "cell_type": "markdown",
   "metadata": {},
   "source": [
    "### Definição de caminhos e diretórios"
   ]
  },
  {
   "cell_type": "code",
   "execution_count": 6,
   "metadata": {},
   "outputs": [],
   "source": [
    "raw_path    = \"data/raw\"\n",
    "bronze_path = \"data/bronze\"\n",
    "silver_path = \"data/silver\""
   ]
  },
  {
   "attachments": {},
   "cell_type": "markdown",
   "metadata": {},
   "source": [
    "### Helper Functions"
   ]
  },
  {
   "cell_type": "markdown",
   "id": "697593ef",
   "metadata": {},
   "source": [
    "### Criando os datasets"
   ]
  },
  {
   "cell_type": "code",
   "execution_count": 13,
   "metadata": {},
   "outputs": [],
   "source": [
    "# Grava dataframe em arquivo .csv\n",
    "def df_to_csv( df, path, mode ):\n",
    "    with open( path, mode ) as csv_file:\n",
    "        df.to_csv( csv_file, index = False )"
   ]
  },
  {
   "cell_type": "code",
   "execution_count": 16,
   "id": "439bbd78",
   "metadata": {
    "ExecuteTime": {
     "end_time": "2022-12-20T23:11:09.753399Z",
     "start_time": "2022-12-20T23:11:05.375243Z"
    }
   },
   "outputs": [],
   "source": [
    "def silver_datasets_generation():  \n",
    "    file_list = []\n",
    "    df_silver = pd.DataFrame()\n",
    "    \n",
    "    if os.path.exists( bronze_path ):\n",
    "        file_list = os.listdir( bronze_path )\n",
    "\n",
    "        for file in file_list[0:1]:\n",
    "            if '.csv' in file:\n",
    "                try:\n",
    "                    # loadin the bronze dataset into df_silver\n",
    "                    df_silver = pd.read_csv( f\"{bronze_path}/{file}\" )\n",
    "                    # sorting the df_silver by the open time\n",
    "                    df_silver.sort_values( \"Open_time\" )\n",
    "                    # dropping the ignore column\n",
    "                    df_silver.drop( \"Ignore\", axis = 1, inplace = True )\n",
    "                    # reset index \n",
    "                    df_silver.reset_index( inplace = True, drop = True )\n",
    "                    \n",
    "                    # converting Open_time and Close_time columns to datetime\n",
    "                    df_silver[ 'Open_time' ] = df_silver[ 'Open_time' ].apply( lambda x: datetime.fromtimestamp( np.round( x/1000, 0 ) ) )\n",
    "                    df_silver[ 'Close_time' ] = df_silver[ 'Close_time' ].apply( lambda x: datetime.fromtimestamp( np.round( x/1000, 0 ) ) )\n",
    "                    \n",
    "                    # Adding the mean price column\n",
    "                    df_silver[ \"Mean\"] = df_silver[[\"Open\",\"High\",\"Low\",\"Close\"]].sum( axis = 1 ) / 4\n",
    "                    df_silver = df_silver [[\"Open_time\",\"Open\",\"High\",\"Low\",\"Close\",\"Mean\",\"Volume\",\"Close_time\",\"Quote_asset_volume\",\"Number_of_trades\",\"Taker_buy_base_asset_volume\",\"Taker_buy_quote_asset_volume\"]]\n",
    "                    \n",
    "                except Exception as ex:\n",
    "                    print( f\"ERROR: {ex}\" )\n",
    "                \n",
    "                \n",
    "                \n",
    "    return df_silver\n",
    "df_silver = silver_datasets_generation()     "
   ]
  },
  {
   "cell_type": "markdown",
   "metadata": {},
   "source": [
    "## Incluindo os Indicadores"
   ]
  },
  {
   "attachments": {},
   "cell_type": "markdown",
   "metadata": {},
   "source": [
    "### SMA (Simple Moving Average)"
   ]
  },
  {
   "cell_type": "code",
   "execution_count": null,
   "metadata": {},
   "outputs": [],
   "source": [
    "# Simple Moving Average \n",
    "def SMA(data, ndays, _name): \n",
    "    SMA = pd.Series(data['Close'].rolling(ndays).mean(), name = _name) \n",
    "    data = data.join(SMA) \n",
    "    return data"
   ]
  },
  {
   "cell_type": "code",
   "execution_count": null,
   "id": "f0d6c5cd",
   "metadata": {
    "ExecuteTime": {
     "end_time": "2022-12-20T23:02:39.151880Z",
     "start_time": "2022-12-20T23:02:39.142152Z"
    }
   },
   "outputs": [
    {
     "data": {
      "text/html": [
       "<div>\n",
       "<style scoped>\n",
       "    .dataframe tbody tr th:only-of-type {\n",
       "        vertical-align: middle;\n",
       "    }\n",
       "\n",
       "    .dataframe tbody tr th {\n",
       "        vertical-align: top;\n",
       "    }\n",
       "\n",
       "    .dataframe thead th {\n",
       "        text-align: right;\n",
       "    }\n",
       "</style>\n",
       "<table border=\"1\" class=\"dataframe\">\n",
       "  <thead>\n",
       "    <tr style=\"text-align: right;\">\n",
       "      <th></th>\n",
       "      <th>Open_time</th>\n",
       "      <th>Open</th>\n",
       "      <th>High</th>\n",
       "      <th>Low</th>\n",
       "      <th>Close</th>\n",
       "      <th>Mean</th>\n",
       "      <th>Volume</th>\n",
       "      <th>Close_time</th>\n",
       "      <th>Quote_asset_volume</th>\n",
       "      <th>Number_of_trades</th>\n",
       "      <th>Taker_buy_base_asset_volume</th>\n",
       "      <th>Taker_buy_quote_asset_volume</th>\n",
       "    </tr>\n",
       "  </thead>\n",
       "  <tbody>\n",
       "    <tr>\n",
       "      <th>0</th>\n",
       "      <td>2021-06-30 21:00:00</td>\n",
       "      <td>57.549</td>\n",
       "      <td>57.645</td>\n",
       "      <td>56.744</td>\n",
       "      <td>56.744</td>\n",
       "      <td>57.17050</td>\n",
       "      <td>33446.870</td>\n",
       "      <td>2021-06-30 21:05:00</td>\n",
       "      <td>1.908515e+06</td>\n",
       "      <td>2614</td>\n",
       "      <td>14504.105</td>\n",
       "      <td>827697.106135</td>\n",
       "    </tr>\n",
       "    <tr>\n",
       "      <th>1</th>\n",
       "      <td>2021-06-30 21:05:00</td>\n",
       "      <td>56.741</td>\n",
       "      <td>56.769</td>\n",
       "      <td>56.239</td>\n",
       "      <td>56.259</td>\n",
       "      <td>56.50200</td>\n",
       "      <td>21475.548</td>\n",
       "      <td>2021-06-30 21:10:00</td>\n",
       "      <td>1.214538e+06</td>\n",
       "      <td>1941</td>\n",
       "      <td>8971.813</td>\n",
       "      <td>507724.090608</td>\n",
       "    </tr>\n",
       "    <tr>\n",
       "      <th>2</th>\n",
       "      <td>2021-06-30 21:10:00</td>\n",
       "      <td>56.243</td>\n",
       "      <td>56.500</td>\n",
       "      <td>56.214</td>\n",
       "      <td>56.380</td>\n",
       "      <td>56.33425</td>\n",
       "      <td>11521.704</td>\n",
       "      <td>2021-06-30 21:15:00</td>\n",
       "      <td>6.494414e+05</td>\n",
       "      <td>1173</td>\n",
       "      <td>6580.538</td>\n",
       "      <td>371010.849112</td>\n",
       "    </tr>\n",
       "    <tr>\n",
       "      <th>3</th>\n",
       "      <td>2021-06-30 21:15:00</td>\n",
       "      <td>56.424</td>\n",
       "      <td>56.661</td>\n",
       "      <td>56.228</td>\n",
       "      <td>56.469</td>\n",
       "      <td>56.44550</td>\n",
       "      <td>12765.234</td>\n",
       "      <td>2021-06-30 21:20:00</td>\n",
       "      <td>7.209205e+05</td>\n",
       "      <td>1136</td>\n",
       "      <td>7910.369</td>\n",
       "      <td>446941.910521</td>\n",
       "    </tr>\n",
       "    <tr>\n",
       "      <th>4</th>\n",
       "      <td>2021-06-30 21:20:00</td>\n",
       "      <td>56.484</td>\n",
       "      <td>56.912</td>\n",
       "      <td>56.479</td>\n",
       "      <td>56.617</td>\n",
       "      <td>56.62300</td>\n",
       "      <td>17825.950</td>\n",
       "      <td>2021-06-30 21:25:00</td>\n",
       "      <td>1.011476e+06</td>\n",
       "      <td>1259</td>\n",
       "      <td>8613.917</td>\n",
       "      <td>488766.239262</td>\n",
       "    </tr>\n",
       "  </tbody>\n",
       "</table>\n",
       "</div>"
      ],
      "text/plain": [
       "            Open_time    Open    High     Low   Close      Mean     Volume  \\\n",
       "0 2021-06-30 21:00:00  57.549  57.645  56.744  56.744  57.17050  33446.870   \n",
       "1 2021-06-30 21:05:00  56.741  56.769  56.239  56.259  56.50200  21475.548   \n",
       "2 2021-06-30 21:10:00  56.243  56.500  56.214  56.380  56.33425  11521.704   \n",
       "3 2021-06-30 21:15:00  56.424  56.661  56.228  56.469  56.44550  12765.234   \n",
       "4 2021-06-30 21:20:00  56.484  56.912  56.479  56.617  56.62300  17825.950   \n",
       "\n",
       "           Close_time  Quote_asset_volume  Number_of_trades  \\\n",
       "0 2021-06-30 21:05:00        1.908515e+06              2614   \n",
       "1 2021-06-30 21:10:00        1.214538e+06              1941   \n",
       "2 2021-06-30 21:15:00        6.494414e+05              1173   \n",
       "3 2021-06-30 21:20:00        7.209205e+05              1136   \n",
       "4 2021-06-30 21:25:00        1.011476e+06              1259   \n",
       "\n",
       "   Taker_buy_base_asset_volume  Taker_buy_quote_asset_volume  \n",
       "0                    14504.105                 827697.106135  \n",
       "1                     8971.813                 507724.090608  \n",
       "2                     6580.538                 371010.849112  \n",
       "3                     7910.369                 446941.910521  \n",
       "4                     8613.917                 488766.239262  "
      ]
     },
     "metadata": {},
     "output_type": "display_data"
    }
   ],
   "source": [
    "df_silver = SMA( df_silver, 50, 'LT_SMA')\n",
    "df_silver.head()"
   ]
  },
  {
   "cell_type": "markdown",
   "id": "8f75f2b7",
   "metadata": {
    "ExecuteTime": {
     "end_time": "2022-12-20T22:54:27.671625Z",
     "start_time": "2022-12-20T22:54:27.668754Z"
    }
   },
   "source": [
    "### Gravando os silvers datasets"
   ]
  },
  {
   "cell_type": "code",
   "execution_count": 20,
   "id": "8b441d16",
   "metadata": {
    "ExecuteTime": {
     "end_time": "2022-12-20T23:06:23.005722Z",
     "start_time": "2022-12-20T23:06:23.002825Z"
    }
   },
   "outputs": [
    {
     "name": "stdout",
     "output_type": "stream",
     "text": [
      "ERROR: name 'file' is not defined\n"
     ]
    }
   ],
   "source": [
    "# Precisa revisar\n",
    "try:\n",
    "    if os.path.exists( silver_path ):\n",
    "        # pass\n",
    "        df_to_csv( df_silver, f\"{silver_path}/{file}\", 'a' )\n",
    "    \n",
    "    else:\n",
    "        os.mkdir( silver_path )\n",
    "        df_to_csv( df_silver, f\"{df_silver}/{file}\", 'a' )\n",
    "\n",
    "except Exception as ex:\n",
    "    print( f\"ERROR: {ex}\" )"
   ]
  },
  {
   "cell_type": "code",
   "execution_count": null,
   "metadata": {},
   "outputs": [],
   "source": []
  }
 ],
 "metadata": {
  "kernelspec": {
   "display_name": "CripytoBot_venv",
   "language": "python",
   "name": "python3"
  },
  "language_info": {
   "codemirror_mode": {
    "name": "ipython",
    "version": 3
   },
   "file_extension": ".py",
   "mimetype": "text/x-python",
   "name": "python",
   "nbconvert_exporter": "python",
   "pygments_lexer": "ipython3",
   "version": "3.8.10"
  },
  "orig_nbformat": 4,
  "vscode": {
   "interpreter": {
    "hash": "dc853248393b8b1a1ebb1dd4c6aac1d185b1c8cab50a99b54a5da3aad7606815"
   }
  }
 },
 "nbformat": 4,
 "nbformat_minor": 2
}
