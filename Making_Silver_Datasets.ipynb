{
 "cells": [
  {
   "attachments": {},
   "cell_type": "markdown",
   "metadata": {},
   "source": [
    "# Silver Datasets"
   ]
  },
  {
   "attachments": {},
   "cell_type": "markdown",
   "metadata": {},
   "source": [
    "## Importando as bibliotecas"
   ]
  },
  {
   "cell_type": "code",
   "execution_count": 17,
   "metadata": {},
   "outputs": [],
   "source": [
    "import os\n",
    "import numpy             as np\n",
    "import pandas            as pd\n",
    "import matplotlib.pyplot as plt\n",
    "import seaborn           as sns\n",
    "\n",
    "from datetime import datetime\n",
    "\n",
    "pd.set_option(\"display.max_columns\", None)"
   ]
  },
  {
   "attachments": {},
   "cell_type": "markdown",
   "metadata": {},
   "source": [
    "## Definição de caminhos e diretórios"
   ]
  },
  {
   "cell_type": "code",
   "execution_count": 18,
   "metadata": {},
   "outputs": [],
   "source": [
    "raw_path    = \"data/raw\"\n",
    "bronze_path = \"data/bronze\"\n",
    "silver_path = \"data/silver\""
   ]
  },
  {
   "attachments": {},
   "cell_type": "markdown",
   "metadata": {},
   "source": [
    "## Helper Functions"
   ]
  },
  {
   "attachments": {},
   "cell_type": "markdown",
   "id": "697593ef",
   "metadata": {},
   "source": [
    "## Criando os datasets em arquivos .csv"
   ]
  },
  {
   "cell_type": "code",
   "execution_count": 19,
   "metadata": {},
   "outputs": [],
   "source": [
    "# Grava dataframe em arquivo .csv\n",
    "def df_to_csv( df, path, mode ):\n",
    "    with open( path, mode ) as csv_file:\n",
    "        df.to_csv( csv_file, index = False )"
   ]
  },
  {
   "attachments": {},
   "cell_type": "markdown",
   "metadata": {},
   "source": [
    "## Calculando os indicadores"
   ]
  },
  {
   "attachments": {},
   "cell_type": "markdown",
   "metadata": {},
   "source": [
    "### SMA (Simple Moving Average)"
   ]
  },
  {
   "cell_type": "code",
   "execution_count": 20,
   "metadata": {},
   "outputs": [],
   "source": [
    "# Simple Moving Average \n",
    "def SMA(data, ndays, _name): \n",
    "    SMA = pd.Series(data['Close'].rolling(ndays).mean(), name = _name) \n",
    "    data = data.join(SMA) \n",
    "    return data"
   ]
  },
  {
   "attachments": {},
   "cell_type": "markdown",
   "metadata": {},
   "source": [
    "### EWMA (Exponentially-weighted Moving Average)"
   ]
  },
  {
   "cell_type": "code",
   "execution_count": 21,
   "metadata": {},
   "outputs": [],
   "source": [
    "# Calculando a EWMA\n",
    "def EMA(data, col, ndays,_name): \n",
    "    EMA = pd.Series(data[col].ewm(span = ndays, min_periods = ndays - 1).mean(), name = _name) \n",
    "    data = data.join(EMA) \n",
    "    return data"
   ]
  },
  {
   "attachments": {},
   "cell_type": "markdown",
   "metadata": {},
   "source": [
    "### Bollinger Bands"
   ]
  },
  {
   "cell_type": "code",
   "execution_count": 22,
   "metadata": {},
   "outputs": [],
   "source": [
    "# Calculando as bandas\n",
    "def BBANDS(data, window):\n",
    "    MA = data.Close.rolling(window).mean()\n",
    "    SD = data.Close.rolling(window).std()\n",
    "    data['UpperBand'] = MA + (2 * SD) \n",
    "    data['LowerBand'] = MA - (2 * SD)\n",
    "    return data"
   ]
  },
  {
   "attachments": {},
   "cell_type": "markdown",
   "metadata": {},
   "source": [
    "### RSI (Relative Strength Index)"
   ]
  },
  {
   "cell_type": "code",
   "execution_count": 23,
   "metadata": {},
   "outputs": [],
   "source": [
    "# Calculando o RSI\n",
    "def rsi(close, periods = 14):\n",
    "    \n",
    "    close_delta = close.diff()\n",
    "\n",
    "    # Make two series: one for lower closes and one for higher closes\n",
    "    up = close_delta.clip(lower=0)\n",
    "    down = -1 * close_delta.clip(upper=0)\n",
    "    \n",
    "    ma_up = up.ewm(com = periods - 1, adjust=True, min_periods = periods).mean()\n",
    "    ma_down = down.ewm(com = periods - 1, adjust=True, min_periods = periods).mean()\n",
    "\n",
    "    rsi = ma_up / ma_down\n",
    "    rsi = 100 - (100/(1 + rsi))\n",
    "    return rsi"
   ]
  },
  {
   "attachments": {},
   "cell_type": "markdown",
   "metadata": {},
   "source": [
    "### MFI (Money Flow Index)"
   ]
  },
  {
   "cell_type": "code",
   "execution_count": 24,
   "metadata": {},
   "outputs": [],
   "source": [
    "def gain(x):\n",
    "    return ((x > 0) * x).sum()\n",
    "\n",
    "\n",
    "def loss(x):\n",
    "    return ((x < 0) * x).sum()\n",
    "\n",
    "\n",
    "# Calculate money flow index\n",
    "def mfi(high, low, close, volume, n=14):\n",
    "    typical_price = (high + low + close)/3\n",
    "    money_flow = typical_price * volume\n",
    "    mf_sign = np.where(typical_price > typical_price.shift(1), 1, -1)\n",
    "    signed_mf = money_flow * mf_sign\n",
    "    mf_avg_gain = signed_mf.rolling(n).apply(gain, raw=True)\n",
    "    mf_avg_loss = signed_mf.rolling(n).apply(loss, raw=True)\n",
    "    return (100 - (100 / (1 + (mf_avg_gain / abs(mf_avg_loss))))).to_numpy()\n"
   ]
  },
  {
   "attachments": {},
   "cell_type": "markdown",
   "metadata": {},
   "source": [
    "### ATR (Average True Range)"
   ]
  },
  {
   "cell_type": "code",
   "execution_count": 25,
   "metadata": {},
   "outputs": [],
   "source": [
    "def atr(high, low, close, n=14):\n",
    "    tr = np.amax(np.vstack(((high - low).to_numpy(), (abs(high - close)).to_numpy(), (abs(low - close)).to_numpy())).T, axis=1)\n",
    "    return pd.Series(tr).rolling(n).mean().to_numpy()"
   ]
  },
  {
   "attachments": {},
   "cell_type": "markdown",
   "metadata": {},
   "source": [
    "### FI (Force Index)"
   ]
  },
  {
   "cell_type": "code",
   "execution_count": 26,
   "metadata": {},
   "outputs": [],
   "source": [
    "def ForceIndex(data, ndays): \n",
    "    FI = pd.Series(data['Close'].diff(ndays) * data['Volume'], name = 'ForceIndex') \n",
    "    data = data.join(FI) \n",
    "    return data"
   ]
  },
  {
   "attachments": {},
   "cell_type": "markdown",
   "metadata": {},
   "source": [
    "### Ease of Movement"
   ]
  },
  {
   "cell_type": "code",
   "execution_count": 27,
   "metadata": {},
   "outputs": [],
   "source": [
    "# Ease of Movement\n",
    "def EMV(data, ndays): \n",
    "    dm = ((data['High'] + data['Low'])/2) - ((data['High'].shift(1) + data['Low'].shift(1))/2)\n",
    "    br = (data['Volume'] / 100000000) / ((data['High'] - data['Low']))\n",
    "    EMV = dm / br \n",
    "    EMV_MA = pd.Series(EMV.rolling(ndays).mean(), name = 'EMV') \n",
    "    data = data.join(EMV_MA) \n",
    "    return data "
   ]
  },
  {
   "attachments": {},
   "cell_type": "markdown",
   "metadata": {},
   "source": [
    "## Carregando os dados para o dataframe df_silver"
   ]
  },
  {
   "cell_type": "code",
   "execution_count": 37,
   "id": "439bbd78",
   "metadata": {
    "ExecuteTime": {
     "end_time": "2022-12-20T23:11:09.753399Z",
     "start_time": "2022-12-20T23:11:05.375243Z"
    }
   },
   "outputs": [
    {
     "name": "stdout",
     "output_type": "stream",
     "text": [
      "Processando o arquivo ETCUSDT-5m.csv 18.37930393218994 Mb\n"
     ]
    },
    {
     "data": {
      "text/html": [
       "<div>\n",
       "<style scoped>\n",
       "    .dataframe tbody tr th:only-of-type {\n",
       "        vertical-align: middle;\n",
       "    }\n",
       "\n",
       "    .dataframe tbody tr th {\n",
       "        vertical-align: top;\n",
       "    }\n",
       "\n",
       "    .dataframe thead th {\n",
       "        text-align: right;\n",
       "    }\n",
       "</style>\n",
       "<table border=\"1\" class=\"dataframe\">\n",
       "  <thead>\n",
       "    <tr style=\"text-align: right;\">\n",
       "      <th></th>\n",
       "      <th>Open_time</th>\n",
       "      <th>Open</th>\n",
       "      <th>High</th>\n",
       "      <th>Low</th>\n",
       "      <th>Close</th>\n",
       "      <th>Mean</th>\n",
       "      <th>Volume</th>\n",
       "      <th>Close_time</th>\n",
       "      <th>Quote_asset_volume</th>\n",
       "      <th>Number_of_trades</th>\n",
       "      <th>Taker_buy_base_asset_volume</th>\n",
       "      <th>Taker_buy_quote_asset_volume</th>\n",
       "      <th>LT_SMA</th>\n",
       "      <th>ST_SMA</th>\n",
       "      <th>LT_EMA</th>\n",
       "      <th>ST_EMA</th>\n",
       "      <th>MACD</th>\n",
       "      <th>Trigger_Line</th>\n",
       "      <th>MADC_H</th>\n",
       "      <th>UpperBand</th>\n",
       "      <th>LowerBand</th>\n",
       "      <th>RSI</th>\n",
       "      <th>MFI</th>\n",
       "      <th>ATR</th>\n",
       "      <th>ForceIndex</th>\n",
       "      <th>EMV</th>\n",
       "    </tr>\n",
       "  </thead>\n",
       "  <tbody>\n",
       "    <tr>\n",
       "      <th>0</th>\n",
       "      <td>2021-07-01 01:05:00</td>\n",
       "      <td>54.898</td>\n",
       "      <td>55.868</td>\n",
       "      <td>54.884</td>\n",
       "      <td>55.503</td>\n",
       "      <td>55.28825</td>\n",
       "      <td>25583.025</td>\n",
       "      <td>2021-07-01 01:10:00</td>\n",
       "      <td>1.418277e+06</td>\n",
       "      <td>4598</td>\n",
       "      <td>14562.194</td>\n",
       "      <td>8.072054e+05</td>\n",
       "      <td>56.73894</td>\n",
       "      <td>55.3211</td>\n",
       "      <td>55.931792</td>\n",
       "      <td>55.439707</td>\n",
       "      <td>0.492085</td>\n",
       "      <td>0.463672</td>\n",
       "      <td>0.028413</td>\n",
       "      <td>58.744364</td>\n",
       "      <td>54.733516</td>\n",
       "      <td>42.667472</td>\n",
       "      <td>36.282857</td>\n",
       "      <td>0.491143</td>\n",
       "      <td>15503.313150</td>\n",
       "      <td>-157.765445</td>\n",
       "    </tr>\n",
       "    <tr>\n",
       "      <th>1</th>\n",
       "      <td>2021-07-01 01:10:00</td>\n",
       "      <td>55.512</td>\n",
       "      <td>55.568</td>\n",
       "      <td>55.278</td>\n",
       "      <td>55.375</td>\n",
       "      <td>55.43325</td>\n",
       "      <td>16363.444</td>\n",
       "      <td>2021-07-01 01:15:00</td>\n",
       "      <td>9.069693e+05</td>\n",
       "      <td>4001</td>\n",
       "      <td>8450.609</td>\n",
       "      <td>4.684709e+05</td>\n",
       "      <td>56.71156</td>\n",
       "      <td>55.2669</td>\n",
       "      <td>55.889717</td>\n",
       "      <td>55.429750</td>\n",
       "      <td>0.459967</td>\n",
       "      <td>0.462929</td>\n",
       "      <td>-0.002962</td>\n",
       "      <td>58.753747</td>\n",
       "      <td>54.669373</td>\n",
       "      <td>41.039831</td>\n",
       "      <td>29.798491</td>\n",
       "      <td>0.476143</td>\n",
       "      <td>-2094.520832</td>\n",
       "      <td>-145.400457</td>\n",
       "    </tr>\n",
       "    <tr>\n",
       "      <th>2</th>\n",
       "      <td>2021-07-01 01:15:00</td>\n",
       "      <td>55.376</td>\n",
       "      <td>56.083</td>\n",
       "      <td>55.325</td>\n",
       "      <td>55.865</td>\n",
       "      <td>55.66225</td>\n",
       "      <td>53125.379</td>\n",
       "      <td>2021-07-01 01:20:00</td>\n",
       "      <td>2.967874e+06</td>\n",
       "      <td>4999</td>\n",
       "      <td>30658.298</td>\n",
       "      <td>1.711572e+06</td>\n",
       "      <td>56.70368</td>\n",
       "      <td>55.2802</td>\n",
       "      <td>55.887852</td>\n",
       "      <td>55.496723</td>\n",
       "      <td>0.391130</td>\n",
       "      <td>0.448542</td>\n",
       "      <td>-0.057412</td>\n",
       "      <td>58.756010</td>\n",
       "      <td>54.651350</td>\n",
       "      <td>49.052154</td>\n",
       "      <td>41.179076</td>\n",
       "      <td>0.518214</td>\n",
       "      <td>26031.435710</td>\n",
       "      <td>-134.220162</td>\n",
       "    </tr>\n",
       "    <tr>\n",
       "      <th>3</th>\n",
       "      <td>2021-07-01 01:20:00</td>\n",
       "      <td>55.860</td>\n",
       "      <td>56.060</td>\n",
       "      <td>55.770</td>\n",
       "      <td>55.964</td>\n",
       "      <td>55.91350</td>\n",
       "      <td>10279.163</td>\n",
       "      <td>2021-07-01 01:25:00</td>\n",
       "      <td>5.747761e+05</td>\n",
       "      <td>3779</td>\n",
       "      <td>5462.055</td>\n",
       "      <td>3.054853e+05</td>\n",
       "      <td>56.69536</td>\n",
       "      <td>55.3198</td>\n",
       "      <td>55.893590</td>\n",
       "      <td>55.568622</td>\n",
       "      <td>0.324968</td>\n",
       "      <td>0.423789</td>\n",
       "      <td>-0.098820</td>\n",
       "      <td>58.756400</td>\n",
       "      <td>54.634320</td>\n",
       "      <td>50.515323</td>\n",
       "      <td>46.558928</td>\n",
       "      <td>0.485643</td>\n",
       "      <td>1017.637137</td>\n",
       "      <td>-48.177286</td>\n",
       "    </tr>\n",
       "    <tr>\n",
       "      <th>4</th>\n",
       "      <td>2021-07-01 01:25:00</td>\n",
       "      <td>55.964</td>\n",
       "      <td>56.000</td>\n",
       "      <td>55.534</td>\n",
       "      <td>55.730</td>\n",
       "      <td>55.80700</td>\n",
       "      <td>12893.999</td>\n",
       "      <td>2021-07-01 01:30:00</td>\n",
       "      <td>7.191106e+05</td>\n",
       "      <td>4425</td>\n",
       "      <td>5504.167</td>\n",
       "      <td>3.072108e+05</td>\n",
       "      <td>56.68058</td>\n",
       "      <td>55.3398</td>\n",
       "      <td>55.881279</td>\n",
       "      <td>55.593452</td>\n",
       "      <td>0.287827</td>\n",
       "      <td>0.396563</td>\n",
       "      <td>-0.108736</td>\n",
       "      <td>58.758773</td>\n",
       "      <td>54.602387</td>\n",
       "      <td>47.074077</td>\n",
       "      <td>42.870843</td>\n",
       "      <td>0.495643</td>\n",
       "      <td>-3017.195766</td>\n",
       "      <td>-74.537082</td>\n",
       "    </tr>\n",
       "    <tr>\n",
       "      <th>...</th>\n",
       "      <td>...</td>\n",
       "      <td>...</td>\n",
       "      <td>...</td>\n",
       "      <td>...</td>\n",
       "      <td>...</td>\n",
       "      <td>...</td>\n",
       "      <td>...</td>\n",
       "      <td>...</td>\n",
       "      <td>...</td>\n",
       "      <td>...</td>\n",
       "      <td>...</td>\n",
       "      <td>...</td>\n",
       "      <td>...</td>\n",
       "      <td>...</td>\n",
       "      <td>...</td>\n",
       "      <td>...</td>\n",
       "      <td>...</td>\n",
       "      <td>...</td>\n",
       "      <td>...</td>\n",
       "      <td>...</td>\n",
       "      <td>...</td>\n",
       "      <td>...</td>\n",
       "      <td>...</td>\n",
       "      <td>...</td>\n",
       "      <td>...</td>\n",
       "      <td>...</td>\n",
       "    </tr>\n",
       "    <tr>\n",
       "      <th>95</th>\n",
       "      <td>2021-07-01 09:00:00</td>\n",
       "      <td>55.000</td>\n",
       "      <td>55.088</td>\n",
       "      <td>54.422</td>\n",
       "      <td>54.629</td>\n",
       "      <td>54.78475</td>\n",
       "      <td>33519.362</td>\n",
       "      <td>2021-07-01 09:05:00</td>\n",
       "      <td>1.832364e+06</td>\n",
       "      <td>1801</td>\n",
       "      <td>20189.753</td>\n",
       "      <td>1.103151e+06</td>\n",
       "      <td>53.64264</td>\n",
       "      <td>54.7403</td>\n",
       "      <td>54.176884</td>\n",
       "      <td>54.549466</td>\n",
       "      <td>-0.372583</td>\n",
       "      <td>-0.317140</td>\n",
       "      <td>-0.055442</td>\n",
       "      <td>55.027383</td>\n",
       "      <td>52.257897</td>\n",
       "      <td>57.402381</td>\n",
       "      <td>62.201696</td>\n",
       "      <td>0.470714</td>\n",
       "      <td>-12435.683302</td>\n",
       "      <td>265.489681</td>\n",
       "    </tr>\n",
       "    <tr>\n",
       "      <th>96</th>\n",
       "      <td>2021-07-01 09:05:00</td>\n",
       "      <td>54.645</td>\n",
       "      <td>54.813</td>\n",
       "      <td>54.284</td>\n",
       "      <td>54.482</td>\n",
       "      <td>54.55600</td>\n",
       "      <td>11227.706</td>\n",
       "      <td>2021-07-01 09:10:00</td>\n",
       "      <td>6.114436e+05</td>\n",
       "      <td>802</td>\n",
       "      <td>4048.388</td>\n",
       "      <td>2.206234e+05</td>\n",
       "      <td>53.66228</td>\n",
       "      <td>54.7114</td>\n",
       "      <td>54.199485</td>\n",
       "      <td>54.539087</td>\n",
       "      <td>-0.339602</td>\n",
       "      <td>-0.321633</td>\n",
       "      <td>-0.017969</td>\n",
       "      <td>55.066484</td>\n",
       "      <td>52.258076</td>\n",
       "      <td>54.844446</td>\n",
       "      <td>61.578059</td>\n",
       "      <td>0.482000</td>\n",
       "      <td>-1650.472782</td>\n",
       "      <td>222.676394</td>\n",
       "    </tr>\n",
       "    <tr>\n",
       "      <th>97</th>\n",
       "      <td>2021-07-01 09:10:00</td>\n",
       "      <td>54.482</td>\n",
       "      <td>54.482</td>\n",
       "      <td>53.868</td>\n",
       "      <td>53.905</td>\n",
       "      <td>54.18425</td>\n",
       "      <td>17609.213</td>\n",
       "      <td>2021-07-01 09:15:00</td>\n",
       "      <td>9.521679e+05</td>\n",
       "      <td>1258</td>\n",
       "      <td>7640.735</td>\n",
       "      <td>4.131042e+05</td>\n",
       "      <td>53.66106</td>\n",
       "      <td>54.6354</td>\n",
       "      <td>54.177671</td>\n",
       "      <td>54.441535</td>\n",
       "      <td>-0.263864</td>\n",
       "      <td>-0.310079</td>\n",
       "      <td>0.046215</td>\n",
       "      <td>55.064293</td>\n",
       "      <td>52.257827</td>\n",
       "      <td>46.151135</td>\n",
       "      <td>55.176869</td>\n",
       "      <td>0.479571</td>\n",
       "      <td>-10160.515901</td>\n",
       "      <td>58.823815</td>\n",
       "    </tr>\n",
       "    <tr>\n",
       "      <th>98</th>\n",
       "      <td>2021-07-01 09:15:00</td>\n",
       "      <td>53.887</td>\n",
       "      <td>54.066</td>\n",
       "      <td>53.838</td>\n",
       "      <td>54.033</td>\n",
       "      <td>53.95600</td>\n",
       "      <td>11434.045</td>\n",
       "      <td>2021-07-01 09:20:00</td>\n",
       "      <td>6.167085e+05</td>\n",
       "      <td>916</td>\n",
       "      <td>5893.636</td>\n",
       "      <td>3.179072e+05</td>\n",
       "      <td>53.66330</td>\n",
       "      <td>54.5773</td>\n",
       "      <td>54.166955</td>\n",
       "      <td>54.378684</td>\n",
       "      <td>-0.211729</td>\n",
       "      <td>-0.290409</td>\n",
       "      <td>0.078680</td>\n",
       "      <td>55.068582</td>\n",
       "      <td>52.258018</td>\n",
       "      <td>48.115878</td>\n",
       "      <td>50.585150</td>\n",
       "      <td>0.474857</td>\n",
       "      <td>1463.557760</td>\n",
       "      <td>-2.164206</td>\n",
       "    </tr>\n",
       "    <tr>\n",
       "      <th>99</th>\n",
       "      <td>2021-07-01 09:20:00</td>\n",
       "      <td>54.042</td>\n",
       "      <td>54.332</td>\n",
       "      <td>53.994</td>\n",
       "      <td>54.057</td>\n",
       "      <td>54.10625</td>\n",
       "      <td>13197.614</td>\n",
       "      <td>2021-07-01 09:25:00</td>\n",
       "      <td>7.144986e+05</td>\n",
       "      <td>780</td>\n",
       "      <td>6023.400</td>\n",
       "      <td>3.262420e+05</td>\n",
       "      <td>53.67170</td>\n",
       "      <td>54.4920</td>\n",
       "      <td>54.158810</td>\n",
       "      <td>54.329194</td>\n",
       "      <td>-0.170384</td>\n",
       "      <td>-0.266404</td>\n",
       "      <td>0.096020</td>\n",
       "      <td>55.081355</td>\n",
       "      <td>52.262045</td>\n",
       "      <td>48.495335</td>\n",
       "      <td>43.133847</td>\n",
       "      <td>0.416286</td>\n",
       "      <td>316.742736</td>\n",
       "      <td>-81.015948</td>\n",
       "    </tr>\n",
       "  </tbody>\n",
       "</table>\n",
       "<p>100 rows × 26 columns</p>\n",
       "</div>"
      ],
      "text/plain": [
       "             Open_time    Open    High     Low   Close      Mean     Volume  \\\n",
       "0  2021-07-01 01:05:00  54.898  55.868  54.884  55.503  55.28825  25583.025   \n",
       "1  2021-07-01 01:10:00  55.512  55.568  55.278  55.375  55.43325  16363.444   \n",
       "2  2021-07-01 01:15:00  55.376  56.083  55.325  55.865  55.66225  53125.379   \n",
       "3  2021-07-01 01:20:00  55.860  56.060  55.770  55.964  55.91350  10279.163   \n",
       "4  2021-07-01 01:25:00  55.964  56.000  55.534  55.730  55.80700  12893.999   \n",
       "..                 ...     ...     ...     ...     ...       ...        ...   \n",
       "95 2021-07-01 09:00:00  55.000  55.088  54.422  54.629  54.78475  33519.362   \n",
       "96 2021-07-01 09:05:00  54.645  54.813  54.284  54.482  54.55600  11227.706   \n",
       "97 2021-07-01 09:10:00  54.482  54.482  53.868  53.905  54.18425  17609.213   \n",
       "98 2021-07-01 09:15:00  53.887  54.066  53.838  54.033  53.95600  11434.045   \n",
       "99 2021-07-01 09:20:00  54.042  54.332  53.994  54.057  54.10625  13197.614   \n",
       "\n",
       "            Close_time  Quote_asset_volume  Number_of_trades  \\\n",
       "0  2021-07-01 01:10:00        1.418277e+06              4598   \n",
       "1  2021-07-01 01:15:00        9.069693e+05              4001   \n",
       "2  2021-07-01 01:20:00        2.967874e+06              4999   \n",
       "3  2021-07-01 01:25:00        5.747761e+05              3779   \n",
       "4  2021-07-01 01:30:00        7.191106e+05              4425   \n",
       "..                 ...                 ...               ...   \n",
       "95 2021-07-01 09:05:00        1.832364e+06              1801   \n",
       "96 2021-07-01 09:10:00        6.114436e+05               802   \n",
       "97 2021-07-01 09:15:00        9.521679e+05              1258   \n",
       "98 2021-07-01 09:20:00        6.167085e+05               916   \n",
       "99 2021-07-01 09:25:00        7.144986e+05               780   \n",
       "\n",
       "    Taker_buy_base_asset_volume  Taker_buy_quote_asset_volume    LT_SMA  \\\n",
       "0                     14562.194                  8.072054e+05  56.73894   \n",
       "1                      8450.609                  4.684709e+05  56.71156   \n",
       "2                     30658.298                  1.711572e+06  56.70368   \n",
       "3                      5462.055                  3.054853e+05  56.69536   \n",
       "4                      5504.167                  3.072108e+05  56.68058   \n",
       "..                          ...                           ...       ...   \n",
       "95                    20189.753                  1.103151e+06  53.64264   \n",
       "96                     4048.388                  2.206234e+05  53.66228   \n",
       "97                     7640.735                  4.131042e+05  53.66106   \n",
       "98                     5893.636                  3.179072e+05  53.66330   \n",
       "99                     6023.400                  3.262420e+05  53.67170   \n",
       "\n",
       "     ST_SMA     LT_EMA     ST_EMA      MACD  Trigger_Line    MADC_H  \\\n",
       "0   55.3211  55.931792  55.439707  0.492085      0.463672  0.028413   \n",
       "1   55.2669  55.889717  55.429750  0.459967      0.462929 -0.002962   \n",
       "2   55.2802  55.887852  55.496723  0.391130      0.448542 -0.057412   \n",
       "3   55.3198  55.893590  55.568622  0.324968      0.423789 -0.098820   \n",
       "4   55.3398  55.881279  55.593452  0.287827      0.396563 -0.108736   \n",
       "..      ...        ...        ...       ...           ...       ...   \n",
       "95  54.7403  54.176884  54.549466 -0.372583     -0.317140 -0.055442   \n",
       "96  54.7114  54.199485  54.539087 -0.339602     -0.321633 -0.017969   \n",
       "97  54.6354  54.177671  54.441535 -0.263864     -0.310079  0.046215   \n",
       "98  54.5773  54.166955  54.378684 -0.211729     -0.290409  0.078680   \n",
       "99  54.4920  54.158810  54.329194 -0.170384     -0.266404  0.096020   \n",
       "\n",
       "    UpperBand  LowerBand        RSI        MFI       ATR    ForceIndex  \\\n",
       "0   58.744364  54.733516  42.667472  36.282857  0.491143  15503.313150   \n",
       "1   58.753747  54.669373  41.039831  29.798491  0.476143  -2094.520832   \n",
       "2   58.756010  54.651350  49.052154  41.179076  0.518214  26031.435710   \n",
       "3   58.756400  54.634320  50.515323  46.558928  0.485643   1017.637137   \n",
       "4   58.758773  54.602387  47.074077  42.870843  0.495643  -3017.195766   \n",
       "..        ...        ...        ...        ...       ...           ...   \n",
       "95  55.027383  52.257897  57.402381  62.201696  0.470714 -12435.683302   \n",
       "96  55.066484  52.258076  54.844446  61.578059  0.482000  -1650.472782   \n",
       "97  55.064293  52.257827  46.151135  55.176869  0.479571 -10160.515901   \n",
       "98  55.068582  52.258018  48.115878  50.585150  0.474857   1463.557760   \n",
       "99  55.081355  52.262045  48.495335  43.133847  0.416286    316.742736   \n",
       "\n",
       "           EMV  \n",
       "0  -157.765445  \n",
       "1  -145.400457  \n",
       "2  -134.220162  \n",
       "3   -48.177286  \n",
       "4   -74.537082  \n",
       "..         ...  \n",
       "95  265.489681  \n",
       "96  222.676394  \n",
       "97   58.823815  \n",
       "98   -2.164206  \n",
       "99  -81.015948  \n",
       "\n",
       "[100 rows x 26 columns]"
      ]
     },
     "execution_count": 37,
     "metadata": {},
     "output_type": "execute_result"
    }
   ],
   "source": [
    "def silver_datasets_generation():  \n",
    "    file_list = []\n",
    "        \n",
    "    if os.path.exists( bronze_path ):\n",
    "        file_list = os.listdir( bronze_path )\n",
    "\n",
    "        for file in file_list[0:1]:\n",
    "            if '.csv' in file:\n",
    "                print( f'Processando o arquivo {file}', os.path.getsize(f\"{bronze_path}/{file}\")/(1024**2), 'Mb')\n",
    "                try:\n",
    "                    # loadin the bronze dataset into df_silver\n",
    "                    df_silver = pd.read_csv( f\"{bronze_path}/{file}\" )\n",
    "                    \n",
    "                    # sorting the df_silver by the open time\n",
    "                    df_silver.sort_values( \"Open_time\" )\n",
    "                                        \n",
    "                    # converting Open_time and Close_time columns to datetime\n",
    "                    df_silver[ 'Open_time' ] = df_silver[ 'Open_time' ].apply( lambda x: datetime.fromtimestamp( np.round( x/1000, 0 ) ) )\n",
    "                    df_silver[ 'Close_time' ] = df_silver[ 'Close_time' ].apply( lambda x: datetime.fromtimestamp( np.round( x/1000, 0 ) ) )\n",
    "                    \n",
    "                    # Adding the mean price column\n",
    "                    df_silver[ \"Mean\"] = df_silver[[\"Open\",\"High\",\"Low\",\"Close\"]].sum( axis = 1 ) / 4\n",
    "                    df_silver = df_silver [[\"Open_time\",\"Open\",\"High\",\"Low\",\"Close\",\"Mean\",\"Volume\",\"Close_time\",\"Quote_asset_volume\",\"Number_of_trades\",\"Taker_buy_base_asset_volume\",\"Taker_buy_quote_asset_volume\"]]\n",
    "                    \n",
    "                    ########################################################################################################\n",
    "                    # Including the Technical Indicators\n",
    "                    ########################################################################################################\n",
    "\n",
    "                    # Long term SMA (Simple Moving Average)\n",
    "                    df_silver = SMA(df_silver, 50, 'LT_SMA')\n",
    "\n",
    "                    # Short term SMA (Simple Moving Average)\n",
    "                    df_silver = SMA(df_silver, 10, 'ST_SMA')\n",
    "\n",
    "                    # Long term EWMA (Exponentially Moving Average)\n",
    "                    df_silver = EMA(df_silver, 'Close', 26, 'LT_EMA')\n",
    "                    \n",
    "                    # Short term EWMA (Exponentially Moving Average)\n",
    "                    df_silver = EMA(df_silver, 'Close', 12, 'ST_EMA')\n",
    "\n",
    "                    # Subtract the 26-day EMA from the 12-Day EMA to get the MACD\n",
    "                    df_silver[\"MACD\"] = df_silver[\"LT_EMA\"] - df_silver[\"ST_EMA\"]  \n",
    "\n",
    "                    # Get the 9-Day EMA of the MACD for the Trigger line\n",
    "                    df_silver = EMA(df_silver, 'MACD', 9, 'Trigger_Line')                  \n",
    "\n",
    "                    # Calculate the difference between the MACD - Trigger for the Convergence/Divergence value\n",
    "                    df_silver[\"MADC_H\"] = df_silver[\"MACD\"] - df_silver[\"Trigger_Line\"]\n",
    "\n",
    "                    # Boiler bands\n",
    "                    df_silver = BBANDS(df_silver, 50)\n",
    "\n",
    "                    # RSI (Relative Strength Index)\n",
    "                    df_silver[\"RSI\"] = rsi(df_silver[\"Close\"])\n",
    "\n",
    "                    # MFI (Money Flow index)\n",
    "                    df_silver[\"MFI\"] = mfi(df_silver[\"High\"], df_silver[\"Low\"], df_silver[\"Close\"], df_silver[\"Volume\"], 14)\n",
    "\n",
    "                    # ATR (Average True Range)\n",
    "                    df_silver['ATR'] = atr(df_silver['High'], df_silver['Low'], df_silver['Close'], 14)\n",
    "\n",
    "                    # Force Index\n",
    "                    df_silver = ForceIndex(df_silver, 1)\n",
    "\n",
    "                    # EMV (Ease Movement)\n",
    "                    df_silver = EMV(df_silver, 14)\n",
    "\n",
    "                    # Dropando as linhas vazias\n",
    "                    df_silver.dropna( inplace = True )\n",
    "\n",
    "                    # reset index \n",
    "                    df_silver.reset_index( inplace = True, drop = True )\n",
    "                                                          \n",
    "\n",
    "                    # # Grava dados no silver dataset\n",
    "                    # try:\n",
    "                    #     if os.path.exists( silver_path ):\n",
    "                    #         # pass\n",
    "                    #         df_to_csv( df_silver, f\"{silver_path}/{file}\", 'a' )\n",
    "                        \n",
    "                    #     else:\n",
    "                    #         os.mkdir( silver_path )\n",
    "                    #         df_to_csv( df_silver, f\"{df_silver}/{file}\", 'a' )\n",
    "\n",
    "                    # except Exception as ex:\n",
    "                    #     print( f\"ERROR: {ex}\" )\n",
    "                    #     pass\n",
    "\n",
    "                except Exception as ex:\n",
    "                    print( f\"ERROR: {ex}\" )                \n",
    "                \n",
    "    return df_silver\n",
    "    \n",
    "df_silver = silver_datasets_generation()     \n",
    "df_silver.head(100)"
   ]
  },
  {
   "attachments": {},
   "cell_type": "markdown",
   "id": "8f75f2b7",
   "metadata": {
    "ExecuteTime": {
     "end_time": "2022-12-20T22:54:27.671625Z",
     "start_time": "2022-12-20T22:54:27.668754Z"
    }
   },
   "source": [
    "# EDA"
   ]
  },
  {
   "attachments": {},
   "cell_type": "markdown",
   "id": "8f75f2b7",
   "metadata": {
    "ExecuteTime": {
     "end_time": "2022-12-20T22:54:27.671625Z",
     "start_time": "2022-12-20T22:54:27.668754Z"
    }
   },
   "source": [
    "### Relação entre preço de fefachemnto e indicadores"
   ]
  },
  {
   "attachments": {},
   "cell_type": "markdown",
   "id": "8f75f2b7",
   "metadata": {
    "ExecuteTime": {
     "end_time": "2022-12-20T22:54:27.671625Z",
     "start_time": "2022-12-20T22:54:27.668754Z"
    }
   },
   "source": [
    "### Relação entre preço de fefachemnto e indicadores\n"
   ]
  },
  {
   "attachments": {},
   "cell_type": "markdown",
   "id": "8f75f2b7",
   "metadata": {
    "ExecuteTime": {
     "end_time": "2022-12-20T22:54:27.671625Z",
     "start_time": "2022-12-20T22:54:27.668754Z"
    }
   },
   "source": [
    "\n",
    "\n",
    "### Relação entre preço médio e indicadores\n"
   ]
  },
  {
   "attachments": {},
   "cell_type": "markdown",
   "id": "8f75f2b7",
   "metadata": {
    "ExecuteTime": {
     "end_time": "2022-12-20T22:54:27.671625Z",
     "start_time": "2022-12-20T22:54:27.668754Z"
    }
   },
   "source": [
    "\n",
    "### Relação entre inversão de comportamento do preço e os indicadores dos a dois. Ocorre cruzamento?\n",
    "\n"
   ]
  },
  {
   "attachments": {},
   "cell_type": "markdown",
   "id": "8f75f2b7",
   "metadata": {
    "ExecuteTime": {
     "end_time": "2022-12-20T22:54:27.671625Z",
     "start_time": "2022-12-20T22:54:27.668754Z"
    }
   },
   "source": [
    "### Estimar quais indicadores melhor indicam inversão de comportamento."
   ]
  },
  {
   "attachments": {},
   "cell_type": "markdown",
   "id": "8f75f2b7",
   "metadata": {
    "ExecuteTime": {
     "end_time": "2022-12-20T22:54:27.671625Z",
     "start_time": "2022-12-20T22:54:27.668754Z"
    }
   },
   "source": [
    "# Featrue Engineering\n"
   ]
  },
  {
   "attachments": {},
   "cell_type": "markdown",
   "id": "8f75f2b7",
   "metadata": {
    "ExecuteTime": {
     "end_time": "2022-12-20T22:54:27.671625Z",
     "start_time": "2022-12-20T22:54:27.668754Z"
    }
   },
   "source": [
    "### Diferença entre LT_SMA e ST_SMA "
   ]
  },
  {
   "attachments": {},
   "cell_type": "markdown",
   "id": "8f75f2b7",
   "metadata": {
    "ExecuteTime": {
     "end_time": "2022-12-20T22:54:27.671625Z",
     "start_time": "2022-12-20T22:54:27.668754Z"
    }
   },
   "source": [
    "### Diferença entre LT_EWMA e ST_EWMA"
   ]
  },
  {
   "attachments": {},
   "cell_type": "markdown",
   "id": "8f75f2b7",
   "metadata": {
    "ExecuteTime": {
     "end_time": "2022-12-20T22:54:27.671625Z",
     "start_time": "2022-12-20T22:54:27.668754Z"
    }
   },
   "source": [
    "### sinal da inclinação para o preço e para todos os indicadores."
   ]
  },
  {
   "attachments": {},
   "cell_type": "markdown",
   "id": "8f75f2b7",
   "metadata": {
    "ExecuteTime": {
     "end_time": "2022-12-20T22:54:27.671625Z",
     "start_time": "2022-12-20T22:54:27.668754Z"
    }
   },
   "source": [
    "### Seno e Cosseno dos osciladores"
   ]
  },
  {
   "attachments": {},
   "cell_type": "markdown",
   "id": "8f75f2b7",
   "metadata": {
    "ExecuteTime": {
     "end_time": "2022-12-20T22:54:27.671625Z",
     "start_time": "2022-12-20T22:54:27.668754Z"
    }
   },
   "source": [
    "#### gerar três diferentes grupos de dados:\n",
    "* -5 (compra)   \n",
    "* 0 (aguarda)   \n",
    "* 5 (vende) \n"
   ]
  },
  {
   "attachments": {},
   "cell_type": "markdown",
   "id": "8b441d16",
   "metadata": {
    "ExecuteTime": {
     "end_time": "2022-12-20T23:06:23.005722Z",
     "start_time": "2022-12-20T23:06:23.002825Z"
    }
   },
   "source": [
    "# Treinamento do modelo   "
   ]
  },
  {
   "attachments": {},
   "cell_type": "markdown",
   "metadata": {},
   "source": [
    "### Três estratégias:   \n",
    "1 - Classificar os dados em Compra, vende ou espera\n",
    "\n",
    "2 - Prever se o preço sobe ou desce\n",
    "\n",
    "3 - Prever o preço em análise de curto espaço de tempo.\n",
    "\n",
    "Para os três casos rodar o Biruta e registrar experimentos no ML Flow.\n"
   ]
  },
  {
   "attachments": {},
   "cell_type": "markdown",
   "id": "8b441d16",
   "metadata": {
    "ExecuteTime": {
     "end_time": "2022-12-20T23:06:23.005722Z",
     "start_time": "2022-12-20T23:06:23.002825Z"
    }
   },
   "source": [
    "### Estratégias 1: Classificadores e agrupadores\n",
    "\n"
   ]
  },
  {
   "attachments": {},
   "cell_type": "markdown",
   "id": "8b441d16",
   "metadata": {
    "ExecuteTime": {
     "end_time": "2022-12-20T23:06:23.005722Z",
     "start_time": "2022-12-20T23:06:23.002825Z"
    }
   },
   "source": [
    "#### 1 - Kmeans "
   ]
  },
  {
   "attachments": {},
   "cell_type": "markdown",
   "id": "8b441d16",
   "metadata": {
    "ExecuteTime": {
     "end_time": "2022-12-20T23:06:23.005722Z",
     "start_time": "2022-12-20T23:06:23.002825Z"
    }
   },
   "source": [
    "\n",
    "\n",
    "#### 2 - DB Scan"
   ]
  },
  {
   "attachments": {},
   "cell_type": "markdown",
   "id": "8b441d16",
   "metadata": {
    "ExecuteTime": {
     "end_time": "2022-12-20T23:06:23.005722Z",
     "start_time": "2022-12-20T23:06:23.002825Z"
    }
   },
   "source": [
    "\n",
    "\n",
    "#### 3 - KNearst Neighboor"
   ]
  },
  {
   "attachments": {},
   "cell_type": "markdown",
   "id": "8b441d16",
   "metadata": {
    "ExecuteTime": {
     "end_time": "2022-12-20T23:06:23.005722Z",
     "start_time": "2022-12-20T23:06:23.002825Z"
    }
   },
   "source": [
    "\n",
    "\n",
    "#### 4 - Decision Tree"
   ]
  },
  {
   "attachments": {},
   "cell_type": "markdown",
   "id": "8b441d16",
   "metadata": {
    "ExecuteTime": {
     "end_time": "2022-12-20T23:06:23.005722Z",
     "start_time": "2022-12-20T23:06:23.002825Z"
    }
   },
   "source": [
    "\n",
    "\n",
    "#### 5 - Random Forest"
   ]
  },
  {
   "attachments": {},
   "cell_type": "markdown",
   "id": "8b441d16",
   "metadata": {
    "ExecuteTime": {
     "end_time": "2022-12-20T23:06:23.005722Z",
     "start_time": "2022-12-20T23:06:23.002825Z"
    }
   },
   "source": [
    "\n",
    "\n",
    "#### 6 - XGBoost Classifier"
   ]
  },
  {
   "attachments": {},
   "cell_type": "markdown",
   "id": "8b441d16",
   "metadata": {
    "ExecuteTime": {
     "end_time": "2022-12-20T23:06:23.005722Z",
     "start_time": "2022-12-20T23:06:23.002825Z"
    }
   },
   "source": [
    "\n",
    "\n",
    "### Estratégia 2 Classificadores binários\n"
   ]
  },
  {
   "attachments": {},
   "cell_type": "markdown",
   "id": "8b441d16",
   "metadata": {
    "ExecuteTime": {
     "end_time": "2022-12-20T23:06:23.005722Z",
     "start_time": "2022-12-20T23:06:23.002825Z"
    }
   },
   "source": [
    "\n",
    "#### Logístic Regressivo "
   ]
  },
  {
   "attachments": {},
   "cell_type": "markdown",
   "id": "8b441d16",
   "metadata": {
    "ExecuteTime": {
     "end_time": "2022-12-20T23:06:23.005722Z",
     "start_time": "2022-12-20T23:06:23.002825Z"
    }
   },
   "source": [
    "\n",
    "\n",
    "#### KNearst Neighboor"
   ]
  },
  {
   "attachments": {},
   "cell_type": "markdown",
   "id": "8b441d16",
   "metadata": {
    "ExecuteTime": {
     "end_time": "2022-12-20T23:06:23.005722Z",
     "start_time": "2022-12-20T23:06:23.002825Z"
    }
   },
   "source": [
    "\n",
    "\n",
    "#### Decision Tree "
   ]
  },
  {
   "attachments": {},
   "cell_type": "markdown",
   "id": "8b441d16",
   "metadata": {
    "ExecuteTime": {
     "end_time": "2022-12-20T23:06:23.005722Z",
     "start_time": "2022-12-20T23:06:23.002825Z"
    }
   },
   "source": [
    "\n",
    "\n",
    "#### Random Forest"
   ]
  },
  {
   "attachments": {},
   "cell_type": "markdown",
   "id": "8b441d16",
   "metadata": {
    "ExecuteTime": {
     "end_time": "2022-12-20T23:06:23.005722Z",
     "start_time": "2022-12-20T23:06:23.002825Z"
    }
   },
   "source": [
    "\n",
    "\n",
    "#### XGBoost Classifier\n"
   ]
  },
  {
   "attachments": {},
   "cell_type": "markdown",
   "id": "8b441d16",
   "metadata": {
    "ExecuteTime": {
     "end_time": "2022-12-20T23:06:23.005722Z",
     "start_time": "2022-12-20T23:06:23.002825Z"
    }
   },
   "source": [
    "\n",
    "### Estratégia 3 Regressão."
   ]
  },
  {
   "attachments": {},
   "cell_type": "markdown",
   "id": "8b441d16",
   "metadata": {
    "ExecuteTime": {
     "end_time": "2022-12-20T23:06:23.005722Z",
     "start_time": "2022-12-20T23:06:23.002825Z"
    }
   },
   "source": [
    "\n",
    "\n",
    "#### Regressão linear"
   ]
  },
  {
   "attachments": {},
   "cell_type": "markdown",
   "id": "8b441d16",
   "metadata": {
    "ExecuteTime": {
     "end_time": "2022-12-20T23:06:23.005722Z",
     "start_time": "2022-12-20T23:06:23.002825Z"
    }
   },
   "source": [
    "\n",
    "\n",
    "#### Regressão Linear Lasso ou Ride"
   ]
  },
  {
   "attachments": {},
   "cell_type": "markdown",
   "id": "8b441d16",
   "metadata": {
    "ExecuteTime": {
     "end_time": "2022-12-20T23:06:23.005722Z",
     "start_time": "2022-12-20T23:06:23.002825Z"
    }
   },
   "source": [
    "\n",
    "\n",
    "#### Randon Forest"
   ]
  },
  {
   "attachments": {},
   "cell_type": "markdown",
   "id": "8b441d16",
   "metadata": {
    "ExecuteTime": {
     "end_time": "2022-12-20T23:06:23.005722Z",
     "start_time": "2022-12-20T23:06:23.002825Z"
    }
   },
   "source": [
    "\n",
    "\n",
    "#### XGBosst Regressor"
   ]
  },
  {
   "attachments": {},
   "cell_type": "markdown",
   "id": "8b441d16",
   "metadata": {
    "ExecuteTime": {
     "end_time": "2022-12-20T23:06:23.005722Z",
     "start_time": "2022-12-20T23:06:23.002825Z"
    }
   },
   "source": [
    "# Avaliação da Performance do modelo"
   ]
  },
  {
   "attachments": {},
   "cell_type": "markdown",
   "id": "8b441d16",
   "metadata": {
    "ExecuteTime": {
     "end_time": "2022-12-20T23:06:23.005722Z",
     "start_time": "2022-12-20T23:06:23.002825Z"
    }
   },
   "source": [
    "\n",
    "\n",
    "# Finetuning (Hyper parâmetros)"
   ]
  },
  {
   "attachments": {},
   "cell_type": "markdown",
   "id": "8b441d16",
   "metadata": {
    "ExecuteTime": {
     "end_time": "2022-12-20T23:06:23.005722Z",
     "start_time": "2022-12-20T23:06:23.002825Z"
    }
   },
   "source": [
    "\n",
    "\n",
    "### Random Search"
   ]
  },
  {
   "attachments": {},
   "cell_type": "markdown",
   "id": "8b441d16",
   "metadata": {
    "ExecuteTime": {
     "end_time": "2022-12-20T23:06:23.005722Z",
     "start_time": "2022-12-20T23:06:23.002825Z"
    }
   },
   "source": [
    "\n",
    "\n",
    "### Ridige Search"
   ]
  },
  {
   "attachments": {},
   "cell_type": "markdown",
   "id": "8b441d16",
   "metadata": {
    "ExecuteTime": {
     "end_time": "2022-12-20T23:06:23.005722Z",
     "start_time": "2022-12-20T23:06:23.002825Z"
    }
   },
   "source": [
    "\n",
    "\n",
    "### Zielzera Search\n"
   ]
  },
  {
   "attachments": {},
   "cell_type": "markdown",
   "id": "8b441d16",
   "metadata": {
    "ExecuteTime": {
     "end_time": "2022-12-20T23:06:23.005722Z",
     "start_time": "2022-12-20T23:06:23.002825Z"
    }
   },
   "source": [
    "\n",
    "\n",
    "# Reavaliação dos modelos."
   ]
  },
  {
   "attachments": {},
   "cell_type": "markdown",
   "id": "8b441d16",
   "metadata": {
    "ExecuteTime": {
     "end_time": "2022-12-20T23:06:23.005722Z",
     "start_time": "2022-12-20T23:06:23.002825Z"
    }
   },
   "source": [
    "\n",
    "                          \n",
    "# RELATÓRIO TOP."
   ]
  }
 ],
 "metadata": {
  "kernelspec": {
   "display_name": "CripytoBot_venv",
   "language": "python",
   "name": "python3"
  },
  "language_info": {
   "codemirror_mode": {
    "name": "ipython",
    "version": 3
   },
   "file_extension": ".py",
   "mimetype": "text/x-python",
   "name": "python",
   "nbconvert_exporter": "python",
   "pygments_lexer": "ipython3",
   "version": "3.8.10"
  },
  "orig_nbformat": 4,
  "vscode": {
   "interpreter": {
    "hash": "dc853248393b8b1a1ebb1dd4c6aac1d185b1c8cab50a99b54a5da3aad7606815"
   }
  }
 },
 "nbformat": 4,
 "nbformat_minor": 2
}
