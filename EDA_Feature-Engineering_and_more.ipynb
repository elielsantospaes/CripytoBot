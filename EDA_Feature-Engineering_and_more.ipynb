{
 "cells": [
  {
   "cell_type": "markdown",
   "id": "707a443e",
   "metadata": {},
   "source": [
    "## Importando as bibliotecas"
   ]
  },
  {
   "cell_type": "code",
   "execution_count": 1,
   "id": "91f2e673",
   "metadata": {
    "ExecuteTime": {
     "end_time": "2023-02-21T20:57:44.726149Z",
     "start_time": "2023-02-21T20:57:43.943442Z"
    }
   },
   "outputs": [],
   "source": [
    "import os\n",
    "import numpy             as np\n",
    "import pandas            as pd\n",
    "import matplotlib.pyplot as plt\n",
    "import seaborn           as sns\n",
    "\n",
    "from datetime import datetime, timedelta\n",
    "from sklearn.preprocessing import MinMaxScaler, StandardScaler\n",
    "\n",
    "%matplotlib inline\n",
    "pd.set_option(\"display.max_columns\", None)\n"
   ]
  },
  {
   "cell_type": "markdown",
   "id": "38bd0c32",
   "metadata": {},
   "source": [
    "## Definição de caminhos e diretórios"
   ]
  },
  {
   "cell_type": "code",
   "execution_count": 2,
   "id": "8b0c1457",
   "metadata": {
    "ExecuteTime": {
     "end_time": "2023-02-21T20:57:44.729056Z",
     "start_time": "2023-02-21T20:57:44.727364Z"
    }
   },
   "outputs": [],
   "source": [
    "silver_path = \"data/silver\""
   ]
  },
  {
   "cell_type": "markdown",
   "id": "88ad90ae",
   "metadata": {},
   "source": [
    "## Loading silver datasets"
   ]
  },
  {
   "cell_type": "code",
   "execution_count": 3,
   "id": "7121eb80",
   "metadata": {
    "ExecuteTime": {
     "end_time": "2023-02-21T20:57:46.634039Z",
     "start_time": "2023-02-21T20:57:44.729996Z"
    }
   },
   "outputs": [],
   "source": [
    "# Lista dos silvers\n",
    "silver_list = os.listdir(f\"{silver_path}\")\n",
    "file = silver_list[1]\n",
    "df = pd.read_csv(f\"{silver_path}/{file}\")\n",
    "\n",
    "df['Open_time'] = pd.to_datetime(df['Open_time'])\n",
    "df['Close_time'] = pd.to_datetime(df['Close_time'])\n"
   ]
  },
  {
   "cell_type": "code",
   "execution_count": 4,
   "id": "1c11a09d",
   "metadata": {
    "ExecuteTime": {
     "end_time": "2023-02-21T20:57:46.656114Z",
     "start_time": "2023-02-21T20:57:46.635738Z"
    }
   },
   "outputs": [
    {
     "name": "stdout",
     "output_type": "stream",
     "text": [
      "Open_time                       0\n",
      "Open                            0\n",
      "High                            0\n",
      "Low                             0\n",
      "Close                           0\n",
      "Mean                            0\n",
      "Volume                          0\n",
      "Close_time                      0\n",
      "Quote_asset_volume              0\n",
      "Number_of_trades                0\n",
      "Taker_buy_base_asset_volume     0\n",
      "Taker_buy_quote_asset_volume    0\n",
      "LT_SMA                          0\n",
      "ST_SMA                          0\n",
      "LT_EMA                          0\n",
      "ST_EMA                          0\n",
      "MACD                            0\n",
      "Trigger_Line                    0\n",
      "MADC_H                          0\n",
      "UpperBand                       0\n",
      "LowerBand                       0\n",
      "RSI                             0\n",
      "MFI                             0\n",
      "ATR                             0\n",
      "ForceIndex                      0\n",
      "EMV                             0\n",
      "dtype: int64\n"
     ]
    },
    {
     "data": {
      "text/plain": [
       "Open_time                       datetime64[ns]\n",
       "Open                                   float64\n",
       "High                                   float64\n",
       "Low                                    float64\n",
       "Close                                  float64\n",
       "Mean                                   float64\n",
       "Volume                                 float64\n",
       "Close_time                      datetime64[ns]\n",
       "Quote_asset_volume                     float64\n",
       "Number_of_trades                         int64\n",
       "Taker_buy_base_asset_volume            float64\n",
       "Taker_buy_quote_asset_volume           float64\n",
       "LT_SMA                                 float64\n",
       "ST_SMA                                 float64\n",
       "LT_EMA                                 float64\n",
       "ST_EMA                                 float64\n",
       "MACD                                   float64\n",
       "Trigger_Line                           float64\n",
       "MADC_H                                 float64\n",
       "UpperBand                              float64\n",
       "LowerBand                              float64\n",
       "RSI                                    float64\n",
       "MFI                                    float64\n",
       "ATR                                    float64\n",
       "ForceIndex                             float64\n",
       "EMV                                    float64\n",
       "dtype: object"
      ]
     },
     "execution_count": 4,
     "metadata": {},
     "output_type": "execute_result"
    }
   ],
   "source": [
    "print(df.isnull().sum())\n",
    "df.dtypes\n",
    "# df.head()"
   ]
  },
  {
   "cell_type": "markdown",
   "id": "10bb484c",
   "metadata": {},
   "source": [
    "#### Aplicanando Normalização."
   ]
  },
  {
   "cell_type": "code",
   "execution_count": 5,
   "id": "6dfbf922",
   "metadata": {
    "ExecuteTime": {
     "end_time": "2023-02-21T20:57:46.715473Z",
     "start_time": "2023-02-21T20:57:46.657269Z"
    }
   },
   "outputs": [],
   "source": [
    "def min_max_scaler( data, cols ):\n",
    "\n",
    "    mm_scaler = MinMaxScaler()\n",
    "    data[cols] = mm_scaler.fit_transform(np.array(data[cols]).reshape(-1,1))\n",
    "    \n",
    "    return data"
   ]
  },
  {
   "cell_type": "markdown",
   "id": "8f75f2b7",
   "metadata": {
    "ExecuteTime": {
     "end_time": "2022-12-20T22:54:27.671625Z",
     "start_time": "2022-12-20T22:54:27.668754Z"
    }
   },
   "source": [
    "# EDA"
   ]
  },
  {
   "cell_type": "code",
   "execution_count": 6,
   "id": "f5275586",
   "metadata": {
    "ExecuteTime": {
     "end_time": "2023-02-21T20:57:46.784366Z",
     "start_time": "2023-02-21T20:57:46.720617Z"
    }
   },
   "outputs": [],
   "source": [
    "# Simple Moving Average \n",
    "def SMA(data, ndays, col, _name): \n",
    "    SMA = pd.Series(data[col].rolling(ndays).mean(), name = _name) \n",
    "    data = data.join(SMA) \n",
    "    return data"
   ]
  },
  {
   "cell_type": "markdown",
   "id": "ffa740fe",
   "metadata": {},
   "source": [
    "## Colorindo os pontos de MAX e MIN"
   ]
  },
  {
   "cell_type": "code",
   "execution_count": 7,
   "id": "4cb37b89",
   "metadata": {
    "ExecuteTime": {
     "end_time": "2023-02-21T20:57:46.879935Z",
     "start_time": "2023-02-21T20:57:46.790215Z"
    }
   },
   "outputs": [],
   "source": [
    "def is_min(data, col, color_1 = 'lightblue'):\n",
    "    \n",
    "    if col+'_color' not in data.columns:\n",
    "        data[col+'_color'] = color_1\n",
    "        \n",
    "    for i in range(2, len(data) - 2):\n",
    "        if (data.loc[i, col] < data.loc[i - 1, col]) and (data.loc[i, col] < data.loc[i + 1, col]) and (data.loc[i, col] < data.loc[i - 2, col]) and (data.loc[i, col] < data.loc[i + 2, col]): \n",
    "            data.loc[i ,col+'_color'] = 'red'\n",
    "            data.loc[i + 1, col+'_color'] = 'red'\n",
    "            data.loc[i - 1, col+'_color'] = 'red'\n",
    "    \n",
    "    return data\n",
    "\n",
    "def is_max(data, col, color_1 = 'lightblue'):\n",
    "    \n",
    "    if col+'_color' not in data.columns:\n",
    "        data[col+'_color'] = color_1\n",
    "        \n",
    "    for i in range(2, len(data) - 2):\n",
    "        if (data.loc[i, col] > data.loc[i - 1, col]) and (data.loc[i, col] > data.loc[i + 1, col]) and (data.loc[i, col] > data.loc[i - 2, col]) and (data.loc[i, col] > data.loc[i + 2, col]): \n",
    "            data.loc[i,col+'_color'] = 'green'\n",
    "            data.loc[i - 1, col+'_color'] = 'green'\n",
    "            data.loc[i + 1, col+'_color'] = 'green'\n",
    "    \n",
    "    return data"
   ]
  },
  {
   "cell_type": "code",
   "execution_count": 8,
   "id": "0566311f",
   "metadata": {
    "ExecuteTime": {
     "end_time": "2023-02-21T20:58:13.070781Z",
     "start_time": "2023-02-21T20:57:46.884986Z"
    }
   },
   "outputs": [
    {
     "ename": "KeyError",
     "evalue": "'Meam'",
     "output_type": "error",
     "traceback": [
      "\u001b[0;31m---------------------------------------------------------------------------\u001b[0m",
      "\u001b[0;31mKeyError\u001b[0m                                  Traceback (most recent call last)",
      "\u001b[0;32m~/anaconda3/lib/python3.9/site-packages/pandas/core/indexes/base.py\u001b[0m in \u001b[0;36mget_loc\u001b[0;34m(self, key, method, tolerance)\u001b[0m\n\u001b[1;32m   3628\u001b[0m             \u001b[0;32mtry\u001b[0m\u001b[0;34m:\u001b[0m\u001b[0;34m\u001b[0m\u001b[0;34m\u001b[0m\u001b[0m\n\u001b[0;32m-> 3629\u001b[0;31m                 \u001b[0;32mreturn\u001b[0m \u001b[0mself\u001b[0m\u001b[0;34m.\u001b[0m\u001b[0m_engine\u001b[0m\u001b[0;34m.\u001b[0m\u001b[0mget_loc\u001b[0m\u001b[0;34m(\u001b[0m\u001b[0mcasted_key\u001b[0m\u001b[0;34m)\u001b[0m\u001b[0;34m\u001b[0m\u001b[0;34m\u001b[0m\u001b[0m\n\u001b[0m\u001b[1;32m   3630\u001b[0m             \u001b[0;32mexcept\u001b[0m \u001b[0mKeyError\u001b[0m \u001b[0;32mas\u001b[0m \u001b[0merr\u001b[0m\u001b[0;34m:\u001b[0m\u001b[0;34m\u001b[0m\u001b[0;34m\u001b[0m\u001b[0m\n",
      "\u001b[0;32m~/anaconda3/lib/python3.9/site-packages/pandas/_libs/index.pyx\u001b[0m in \u001b[0;36mpandas._libs.index.IndexEngine.get_loc\u001b[0;34m()\u001b[0m\n",
      "\u001b[0;32m~/anaconda3/lib/python3.9/site-packages/pandas/_libs/index.pyx\u001b[0m in \u001b[0;36mpandas._libs.index.IndexEngine.get_loc\u001b[0;34m()\u001b[0m\n",
      "\u001b[0;32mpandas/_libs/hashtable_class_helper.pxi\u001b[0m in \u001b[0;36mpandas._libs.hashtable.PyObjectHashTable.get_item\u001b[0;34m()\u001b[0m\n",
      "\u001b[0;32mpandas/_libs/hashtable_class_helper.pxi\u001b[0m in \u001b[0;36mpandas._libs.hashtable.PyObjectHashTable.get_item\u001b[0;34m()\u001b[0m\n",
      "\u001b[0;31mKeyError\u001b[0m: 'Meam'",
      "\nThe above exception was the direct cause of the following exception:\n",
      "\u001b[0;31mKeyError\u001b[0m                                  Traceback (most recent call last)",
      "\u001b[0;32m/tmp/ipykernel_61211/421644708.py\u001b[0m in \u001b[0;36m<module>\u001b[0;34m\u001b[0m\n\u001b[1;32m      3\u001b[0m \u001b[0mdf\u001b[0m \u001b[0;34m=\u001b[0m \u001b[0mis_max\u001b[0m\u001b[0;34m(\u001b[0m\u001b[0mdf\u001b[0m\u001b[0;34m,\u001b[0m \u001b[0;34m'ST_SMA_AP'\u001b[0m\u001b[0;34m)\u001b[0m\u001b[0;34m\u001b[0m\u001b[0;34m\u001b[0m\u001b[0m\n\u001b[1;32m      4\u001b[0m \u001b[0;34m\u001b[0m\u001b[0m\n\u001b[0;32m----> 5\u001b[0;31m \u001b[0mdf\u001b[0m \u001b[0;34m=\u001b[0m \u001b[0mSMA\u001b[0m\u001b[0;34m(\u001b[0m\u001b[0mdf\u001b[0m\u001b[0;34m,\u001b[0m \u001b[0;36m5\u001b[0m\u001b[0;34m,\u001b[0m \u001b[0;34m'Meam'\u001b[0m\u001b[0;34m,\u001b[0m \u001b[0;34m'ST_SMA_Mean'\u001b[0m\u001b[0;34m)\u001b[0m\u001b[0;34m\u001b[0m\u001b[0;34m\u001b[0m\u001b[0m\n\u001b[0m\u001b[1;32m      6\u001b[0m \u001b[0mdf\u001b[0m \u001b[0;34m=\u001b[0m \u001b[0mis_min\u001b[0m\u001b[0;34m(\u001b[0m\u001b[0mdf\u001b[0m\u001b[0;34m,\u001b[0m \u001b[0;34m'ST_SMA_Meam'\u001b[0m\u001b[0;34m)\u001b[0m\u001b[0;34m\u001b[0m\u001b[0;34m\u001b[0m\u001b[0m\n\u001b[1;32m      7\u001b[0m \u001b[0mdf\u001b[0m \u001b[0;34m=\u001b[0m \u001b[0mis_max\u001b[0m\u001b[0;34m(\u001b[0m\u001b[0mdf\u001b[0m\u001b[0;34m,\u001b[0m \u001b[0;34m'ST_SMA_Meam'\u001b[0m\u001b[0;34m)\u001b[0m\u001b[0;34m\u001b[0m\u001b[0;34m\u001b[0m\u001b[0m\n",
      "\u001b[0;32m/tmp/ipykernel_61211/549014952.py\u001b[0m in \u001b[0;36mSMA\u001b[0;34m(data, ndays, col, _name)\u001b[0m\n\u001b[1;32m      1\u001b[0m \u001b[0;31m# Simple Moving Average\u001b[0m\u001b[0;34m\u001b[0m\u001b[0;34m\u001b[0m\u001b[0m\n\u001b[1;32m      2\u001b[0m \u001b[0;32mdef\u001b[0m \u001b[0mSMA\u001b[0m\u001b[0;34m(\u001b[0m\u001b[0mdata\u001b[0m\u001b[0;34m,\u001b[0m \u001b[0mndays\u001b[0m\u001b[0;34m,\u001b[0m \u001b[0mcol\u001b[0m\u001b[0;34m,\u001b[0m \u001b[0m_name\u001b[0m\u001b[0;34m)\u001b[0m\u001b[0;34m:\u001b[0m\u001b[0;34m\u001b[0m\u001b[0;34m\u001b[0m\u001b[0m\n\u001b[0;32m----> 3\u001b[0;31m     \u001b[0mSMA\u001b[0m \u001b[0;34m=\u001b[0m \u001b[0mpd\u001b[0m\u001b[0;34m.\u001b[0m\u001b[0mSeries\u001b[0m\u001b[0;34m(\u001b[0m\u001b[0mdata\u001b[0m\u001b[0;34m[\u001b[0m\u001b[0mcol\u001b[0m\u001b[0;34m]\u001b[0m\u001b[0;34m.\u001b[0m\u001b[0mrolling\u001b[0m\u001b[0;34m(\u001b[0m\u001b[0mndays\u001b[0m\u001b[0;34m)\u001b[0m\u001b[0;34m.\u001b[0m\u001b[0mmean\u001b[0m\u001b[0;34m(\u001b[0m\u001b[0;34m)\u001b[0m\u001b[0;34m,\u001b[0m \u001b[0mname\u001b[0m \u001b[0;34m=\u001b[0m \u001b[0m_name\u001b[0m\u001b[0;34m)\u001b[0m\u001b[0;34m\u001b[0m\u001b[0;34m\u001b[0m\u001b[0m\n\u001b[0m\u001b[1;32m      4\u001b[0m     \u001b[0mdata\u001b[0m \u001b[0;34m=\u001b[0m \u001b[0mdata\u001b[0m\u001b[0;34m.\u001b[0m\u001b[0mjoin\u001b[0m\u001b[0;34m(\u001b[0m\u001b[0mSMA\u001b[0m\u001b[0;34m)\u001b[0m\u001b[0;34m\u001b[0m\u001b[0;34m\u001b[0m\u001b[0m\n\u001b[1;32m      5\u001b[0m     \u001b[0;32mreturn\u001b[0m \u001b[0mdata\u001b[0m\u001b[0;34m\u001b[0m\u001b[0;34m\u001b[0m\u001b[0m\n",
      "\u001b[0;32m~/anaconda3/lib/python3.9/site-packages/pandas/core/frame.py\u001b[0m in \u001b[0;36m__getitem__\u001b[0;34m(self, key)\u001b[0m\n\u001b[1;32m   3503\u001b[0m             \u001b[0;32mif\u001b[0m \u001b[0mself\u001b[0m\u001b[0;34m.\u001b[0m\u001b[0mcolumns\u001b[0m\u001b[0;34m.\u001b[0m\u001b[0mnlevels\u001b[0m \u001b[0;34m>\u001b[0m \u001b[0;36m1\u001b[0m\u001b[0;34m:\u001b[0m\u001b[0;34m\u001b[0m\u001b[0;34m\u001b[0m\u001b[0m\n\u001b[1;32m   3504\u001b[0m                 \u001b[0;32mreturn\u001b[0m \u001b[0mself\u001b[0m\u001b[0;34m.\u001b[0m\u001b[0m_getitem_multilevel\u001b[0m\u001b[0;34m(\u001b[0m\u001b[0mkey\u001b[0m\u001b[0;34m)\u001b[0m\u001b[0;34m\u001b[0m\u001b[0;34m\u001b[0m\u001b[0m\n\u001b[0;32m-> 3505\u001b[0;31m             \u001b[0mindexer\u001b[0m \u001b[0;34m=\u001b[0m \u001b[0mself\u001b[0m\u001b[0;34m.\u001b[0m\u001b[0mcolumns\u001b[0m\u001b[0;34m.\u001b[0m\u001b[0mget_loc\u001b[0m\u001b[0;34m(\u001b[0m\u001b[0mkey\u001b[0m\u001b[0;34m)\u001b[0m\u001b[0;34m\u001b[0m\u001b[0;34m\u001b[0m\u001b[0m\n\u001b[0m\u001b[1;32m   3506\u001b[0m             \u001b[0;32mif\u001b[0m \u001b[0mis_integer\u001b[0m\u001b[0;34m(\u001b[0m\u001b[0mindexer\u001b[0m\u001b[0;34m)\u001b[0m\u001b[0;34m:\u001b[0m\u001b[0;34m\u001b[0m\u001b[0;34m\u001b[0m\u001b[0m\n\u001b[1;32m   3507\u001b[0m                 \u001b[0mindexer\u001b[0m \u001b[0;34m=\u001b[0m \u001b[0;34m[\u001b[0m\u001b[0mindexer\u001b[0m\u001b[0;34m]\u001b[0m\u001b[0;34m\u001b[0m\u001b[0;34m\u001b[0m\u001b[0m\n",
      "\u001b[0;32m~/anaconda3/lib/python3.9/site-packages/pandas/core/indexes/base.py\u001b[0m in \u001b[0;36mget_loc\u001b[0;34m(self, key, method, tolerance)\u001b[0m\n\u001b[1;32m   3629\u001b[0m                 \u001b[0;32mreturn\u001b[0m \u001b[0mself\u001b[0m\u001b[0;34m.\u001b[0m\u001b[0m_engine\u001b[0m\u001b[0;34m.\u001b[0m\u001b[0mget_loc\u001b[0m\u001b[0;34m(\u001b[0m\u001b[0mcasted_key\u001b[0m\u001b[0;34m)\u001b[0m\u001b[0;34m\u001b[0m\u001b[0;34m\u001b[0m\u001b[0m\n\u001b[1;32m   3630\u001b[0m             \u001b[0;32mexcept\u001b[0m \u001b[0mKeyError\u001b[0m \u001b[0;32mas\u001b[0m \u001b[0merr\u001b[0m\u001b[0;34m:\u001b[0m\u001b[0;34m\u001b[0m\u001b[0;34m\u001b[0m\u001b[0m\n\u001b[0;32m-> 3631\u001b[0;31m                 \u001b[0;32mraise\u001b[0m \u001b[0mKeyError\u001b[0m\u001b[0;34m(\u001b[0m\u001b[0mkey\u001b[0m\u001b[0;34m)\u001b[0m \u001b[0;32mfrom\u001b[0m \u001b[0merr\u001b[0m\u001b[0;34m\u001b[0m\u001b[0;34m\u001b[0m\u001b[0m\n\u001b[0m\u001b[1;32m   3632\u001b[0m             \u001b[0;32mexcept\u001b[0m \u001b[0mTypeError\u001b[0m\u001b[0;34m:\u001b[0m\u001b[0;34m\u001b[0m\u001b[0;34m\u001b[0m\u001b[0m\n\u001b[1;32m   3633\u001b[0m                 \u001b[0;31m# If we have a listlike key, _check_indexing_error will raise\u001b[0m\u001b[0;34m\u001b[0m\u001b[0;34m\u001b[0m\u001b[0m\n",
      "\u001b[0;31mKeyError\u001b[0m: 'Meam'"
     ]
    }
   ],
   "source": [
    "\n",
    "df = SMA(df, 5, 'Close', 'ST_SMA_AP')\n",
    "df = is_min(df, 'ST_SMA_AP')\n",
    "df = is_max(df, 'ST_SMA_AP')\n",
    "\n",
    "df = SMA(df, 5, 'Meam', 'ST_SMA_Mean')\n",
    "df = is_min(df, 'ST_SMA_Meam')\n",
    "df = is_max(df, 'ST_SMA_Meam')\n",
    "\n",
    "df = SMA(df, 5, 'RSI', 'ST_SMA_RSI')\n",
    "df = is_min(df, 'ST_SMA_RSI')\n",
    "df = is_max(df, 'ST_SMA_RSI')\n",
    "\n",
    "df = SMA(df, 5, 'MFI', 'ST_SMA_MFI')\n",
    "df = is_min(df, 'ST_SMA_MFI')\n",
    "df = is_max(df, 'ST_SMA_MFI')\n",
    "\n",
    "df = SMA(df, 5, 'ATR', 'ST_SMA_ATR')\n",
    "df = is_min(df, 'ST_SMA_ATR')\n",
    "df = is_max(df, 'ST_SMA_ATR')\n",
    "\n",
    "df = SMA(df, 5, 'ForceIndex', 'ST_SMA_FI')\n",
    "df = is_min(df, 'ST_SMA_FI')\n",
    "df = is_max(df, 'ST_SMA_FI')\n",
    "\n",
    "df = SMA(df, 5, 'EMV', 'ST_SMA_EMV')\n",
    "df = is_min(df, 'ST_SMA_EMV')\n",
    "df = is_max(df, 'ST_SMA_EMV')\n",
    "\n",
    "\n",
    "\n",
    "df.head()"
   ]
  },
  {
   "cell_type": "markdown",
   "id": "0643587b",
   "metadata": {},
   "source": [
    "### Overview preço de fechamento"
   ]
  },
  {
   "cell_type": "code",
   "execution_count": null,
   "id": "4e59d32f",
   "metadata": {
    "ExecuteTime": {
     "end_time": "2023-02-21T20:58:13.072100Z",
     "start_time": "2023-02-21T20:58:13.072092Z"
    }
   },
   "outputs": [],
   "source": [
    "# Difinindo datas de inicio e fim\n",
    "min_date = pd.to_datetime('2022-01-01 00:00:00')\n",
    "max_date = pd.to_datetime('2022-01-01 05:00:00')\n",
    "\n",
    "\n",
    "# Aplicando o filtro para pegar somente as datas\n",
    "df = df[(df['Close_time'] >= min_date) & (df['Close_time'] <= max_date)].copy()\n",
    "\n",
    "# Definindo a figura para plotar\n",
    "plt.figure(figsize=(20, 10))\n",
    "\n",
    "# sns.scatterplot(x='Close_time', y='Close', data=df, c= df['ST_SMA_AP_color'])\n",
    "sns.scatterplot(x = 'Close_time', y = 'ST_SMA_AP', data = df, c = df['ST_SMA_AP_color'])\n",
    "sns.lineplot(x = 'Close_time', y = 'Close', data = df, color = 'blue')\n",
    "plt.xlim(min_date, max_date)\n",
    "\n",
    "plt.show()"
   ]
  },
  {
   "cell_type": "markdown",
   "id": "d0401ec5",
   "metadata": {
    "ExecuteTime": {
     "end_time": "2022-12-20T22:54:27.671625Z",
     "start_time": "2022-12-20T22:54:27.668754Z"
    }
   },
   "source": [
    "## Relação entre preço de fechamento e indicadores"
   ]
  },
  {
   "cell_type": "markdown",
   "id": "f9b7d9b1",
   "metadata": {},
   "source": [
    "### Preço de fechamento vs RSI"
   ]
  },
  {
   "cell_type": "code",
   "execution_count": null,
   "id": "bb20690f",
   "metadata": {
    "ExecuteTime": {
     "end_time": "2023-02-21T17:19:49.863714Z",
     "start_time": "2023-02-21T17:19:49.768297Z"
    }
   },
   "outputs": [],
   "source": []
  },
  {
   "cell_type": "code",
   "execution_count": null,
   "id": "549f043c",
   "metadata": {
    "ExecuteTime": {
     "end_time": "2023-02-21T20:58:13.073085Z",
     "start_time": "2023-02-21T20:58:13.073076Z"
    }
   },
   "outputs": [],
   "source": [
    "# Difinindo datas de inicio e fim\n",
    "min_date = pd.to_datetime('2022-01-01 00:00:00')\n",
    "max_date = pd.to_datetime('2022-01-01 05:00:00')\n",
    "\n",
    "# Aplicando o filtro para pegar somente as datas\n",
    "df_plot = df[(df['Close_time'] >= min_date) & (df['Close_time'] <= max_date)].copy()\n",
    "\n",
    "df_plot = min_max_scaler(df_plot, 'Close')\n",
    "df_plot = min_max_scaler(df_plot, 'RSI')\n",
    "df_plot = min_max_scaler(df_plot, 'ST_SMA_RSI')\n",
    "\n",
    "# Definindo a figura para plotar\n",
    "plt.figure(figsize=(20, 8))\n",
    "sns.lineplot(x = 'Close_time', y = 'Close', data = df_plot, color = 'blue')\n",
    "sns.lineplot(x = 'Close_time', y = 'RSI', data = df_plot, color = 'orange')\n",
    "sns.scatterplot(x = 'Close_time', y = 'ST_SMA_RSI', data = df_plot, c = df_plot['ST_SMA_RSI_color'])\n",
    "plt.legend(['Close','RSI'])\n",
    "\n",
    "plt.show()\n",
    "\n"
   ]
  },
  {
   "cell_type": "markdown",
   "id": "26c7a34a",
   "metadata": {},
   "source": [
    "#### Relação entre RSI e Preço de fechamento.\n",
    "- Considerando um curto período. Se o preço e o RSI oscilam juntos, se um sobe o outro sobe se um desce o outro desce.   \n",
    "- O RSI pode ter comportamento inverso do preço. Subir quando o preço está caindo ou cair quando o preço está subindo. Isso parace indicar um comportaemnto de inversão no preço."
   ]
  },
  {
   "cell_type": "markdown",
   "id": "e5604f82",
   "metadata": {},
   "source": [
    "### Preço de fechamento vs SMA"
   ]
  },
  {
   "cell_type": "code",
   "execution_count": null,
   "id": "a0b0d8dd",
   "metadata": {
    "ExecuteTime": {
     "end_time": "2023-02-21T20:58:13.073930Z",
     "start_time": "2023-02-21T20:58:13.073920Z"
    }
   },
   "outputs": [],
   "source": [
    "# Difinindo datas de inicio e fim\n",
    "min_date = pd.to_datetime('2022-01-01 00:00:00')\n",
    "max_date = pd.to_datetime('2022-01-01 05:00:00')\n",
    "\n",
    "# Aplicando o filtro para pegar somente as datas\n",
    "df_plot = df[(df['Close_time'] >= min_date) & (df['Close_time'] <= max_date)]\n",
    "\n",
    "# Definindo a figura para plotar \n",
    "plt.figure(figsize = (20,6))\n",
    "\n",
    "sns.lineplot(x = 'Close_time', y = 'Close', data = df_plot, color = 'blue')\n",
    "sns.lineplot(x = 'Close_time', y = 'ST_SMA', data = df_plot, color = 'green')\n",
    "sns.lineplot(x = 'Close_time', y = 'LT_SMA', data = df_plot, color = 'orange')\n",
    "plt.xlim(min_date, max_date)\n",
    "plt.legend( ['Close','ST_SMA','LT_SMA'] )\n",
    "\n",
    "plt.show()"
   ]
  },
  {
   "cell_type": "markdown",
   "id": "460daf8f",
   "metadata": {},
   "source": [
    "#### Comportamento da SMA em relação ao comportamento do preço.   \n",
    "- Se ST > LT indica um movimento de alta   \n",
    "- SE ST < LT indidca um movimento de queda   \n",
    "- As inversões no preço ocorrem próximos aos cruzamentos das SMA.   \n",
    "- A diferença entre ST e LT aumenta, durante a queda, até o ponto de mínimo do preço.   \n",
    "- A diferença entre ST e LT aumenta, durante a alta, até o ponto de  máximo do preço.   "
   ]
  },
  {
   "cell_type": "markdown",
   "id": "89200cf7",
   "metadata": {},
   "source": [
    "### Preço de fechamento vs EMA"
   ]
  },
  {
   "cell_type": "code",
   "execution_count": null,
   "id": "f96e614a",
   "metadata": {
    "ExecuteTime": {
     "end_time": "2023-02-21T20:58:13.074690Z",
     "start_time": "2023-02-21T20:58:13.074681Z"
    }
   },
   "outputs": [],
   "source": [
    "# Difinindo datas de inicio e fim\n",
    "min_date = pd.to_datetime('2022-01-01 00:00:00')\n",
    "max_date = pd.to_datetime('2022-01-01 05:00:00')\n",
    "\n",
    "# Aplicando o filtro para pegar somente as datas\n",
    "df_plot = df[(df['Close_time'] >= min_date) & (df['Close_time'] <= max_date)]\n",
    "\n",
    "# Definindo a figura para plotar \n",
    "plt.figure(figsize = (20,6))\n",
    "\n",
    "sns.lineplot(x = 'Close_time', y = 'Close', data = df_plot, color = 'blue')\n",
    "sns.lineplot(x = 'Close_time', y = 'ST_EMA', data = df_plot, color = 'green')\n",
    "sns.lineplot(x = 'Close_time', y = 'LT_EMA', data = df_plot, color = 'orange')\n",
    "plt.xlim(min_date, max_date)\n",
    "plt.legend( ['Close','ST_EMA','LT_EMA'] )\n",
    "\n",
    "\n",
    "plt.show()"
   ]
  },
  {
   "cell_type": "markdown",
   "id": "3888d12b",
   "metadata": {},
   "source": [
    "#### Comportamento da EMA em relação ao comportamento do preço.   \n",
    "- Se ST > LT indica um movimento de alta   \n",
    "- SE ST < LT indidca um movimento de queda   \n",
    "- As inversões no preço ocorrem próximos aos cruzamentos das EMA.   \n",
    "- A diferença entre ST e LT aumenta, durante a queda, até o ponto de mínimo do preço.   \n",
    "- A diferença entre ST e LT aumenta, durante a alta, até o ponto de  máximo do preço.   "
   ]
  },
  {
   "cell_type": "markdown",
   "id": "5633dda4",
   "metadata": {},
   "source": [
    "### Preço de fechamento vs MACD"
   ]
  },
  {
   "cell_type": "code",
   "execution_count": null,
   "id": "fc92102f",
   "metadata": {
    "ExecuteTime": {
     "end_time": "2023-02-21T20:58:13.075588Z",
     "start_time": "2023-02-21T20:58:13.075579Z"
    }
   },
   "outputs": [],
   "source": [
    "# Difinindo datas de inicio e fim\n",
    "min_date = pd.to_datetime('2022-01-01 00:00:00')\n",
    "max_date = pd.to_datetime('2022-01-01 05:00:00')\n",
    "\n",
    "# Aplicando o filtro para pegar somente as datas\n",
    "df_plot = df[(df['Close_time'] >= min_date) & (df['Close_time'] <= max_date)]\n",
    "\n",
    "# Definindo a figura para plotar \n",
    "plt.figure(figsize = (20,15))\n",
    "\n",
    "plt.subplot(3,1,1)\n",
    "sns.lineplot(x = 'Close_time', y = 'Close', data = df_plot, color = 'blue')\n",
    "plt.xlim(min_date, max_date)\n",
    "\n",
    "plt.subplot(3,1,2)\n",
    "sns.lineplot(x = 'Close_time', y = 'MACD', data = df_plot, color = 'black')\n",
    "sns.lineplot(x = 'Close_time', y = 'Trigger_Line', data = df_plot, color = 'red')\n",
    "plt.xlim(min_date, max_date)\n",
    "plt.legend( ['MACD','Trigger_Line'])\n",
    "\n",
    "plt.subplot(3,1,3)\n",
    "sns.barplot(x = 'Close_time', y = 'MADC_H', data = df_plot, color = 'orange')\n",
    "plt.xticks(color = 'white' )\n",
    "\n",
    "plt.show()"
   ]
  },
  {
   "cell_type": "markdown",
   "id": "5f5d58b2",
   "metadata": {},
   "source": [
    "#### MACD_H em relação ao preço de fechamento.\n",
    "- Valores positivos indicam movimentos de alta.   \n",
    "- Valores negativos indicam movimentos de baixa.   \n",
    "- Os pontos de máximo estão próximos ao preços máximos.\n",
    "- Os pontos de mínimo estão próximos aos preços mínimos."
   ]
  },
  {
   "cell_type": "markdown",
   "id": "69a1005b",
   "metadata": {},
   "source": [
    "### Preço de fechamento vs MFI"
   ]
  },
  {
   "cell_type": "code",
   "execution_count": null,
   "id": "f233a4e0",
   "metadata": {
    "ExecuteTime": {
     "end_time": "2023-02-21T20:58:13.076233Z",
     "start_time": "2023-02-21T20:58:13.076224Z"
    }
   },
   "outputs": [],
   "source": [
    "# Difinindo datas de inicio e fim\n",
    "min_date = pd.to_datetime('2022-01-01 00:00:00')\n",
    "max_date = pd.to_datetime('2022-01-01 05:00:00')\n",
    "\n",
    "# Aplicando o filtro para pegar somente as datas\n",
    "df_plot = df[(df['Close_time'] >= min_date) & (df['Close_time'] <= max_date)].copy()\n",
    "\n",
    "df_plot = min_max_scaler(df_plot, 'Close')\n",
    "df_plot = min_max_scaler(df_plot, 'MFI')\n",
    "df_plot = min_max_scaler(df_plot, 'ST_SMA_MFI')\n",
    "\n",
    "\n",
    "# Definindo a figura para plotar\n",
    "plt.figure(figsize=(20, 8))\n",
    "sns.lineplot(x = 'Close_time', y = 'Close', data = df_plot, color = 'blue')\n",
    "sns.lineplot(x = 'Close_time', y = 'MFI', data = df_plot, color = 'orange')\n",
    "sns.scatterplot(x = 'Close_time', y = 'ST_SMA_MFI', data = df_plot, c = df_plot['ST_SMA_MFI_color'])\n",
    "plt.legend(['Close','MFI'])\n",
    "\n",
    "plt.show()"
   ]
  },
  {
   "cell_type": "markdown",
   "id": "308ebd0d",
   "metadata": {},
   "source": [
    "#### MFI em função do preço médio\n",
    "- Comportamento um pouco caótico. Deixar o modelo (BORUTA) decidir se é importante."
   ]
  },
  {
   "cell_type": "markdown",
   "id": "88a8929a",
   "metadata": {},
   "source": [
    "### Preço de fechamento vs ATR"
   ]
  },
  {
   "cell_type": "code",
   "execution_count": null,
   "id": "8c5c3c98",
   "metadata": {
    "ExecuteTime": {
     "end_time": "2023-02-21T20:58:13.076870Z",
     "start_time": "2023-02-21T20:58:13.076860Z"
    }
   },
   "outputs": [],
   "source": [
    "# Difinindo datas de inicio e fim\n",
    "min_date = pd.to_datetime('2022-01-01 00:00:00')\n",
    "max_date = pd.to_datetime('2022-01-01 05:00:00')\n",
    "\n",
    "# Aplicando o filtro para pegar somente as datas\n",
    "df_plot = df[(df['Close_time'] >= min_date) & (df['Close_time'] <= max_date)].copy()\n",
    "\n",
    "df_plot = min_max_scaler(df_plot, 'Close')\n",
    "df_plot = min_max_scaler(df_plot, 'ATR')\n",
    "df_plot = min_max_scaler(df_plot, 'ST_SMA_ATR')\n",
    "\n",
    "\n",
    "# Definindo a figura para plotar\n",
    "plt.figure(figsize=(20, 8))\n",
    "sns.lineplot(x = 'Close_time', y = 'Close', data = df_plot, color = 'blue')\n",
    "sns.lineplot(x = 'Close_time', y = 'ATR', data = df_plot, color = 'orange')\n",
    "sns.scatterplot(x = 'Close_time', y = 'ST_SMA_ATR', data = df_plot, c = df_plot['ST_SMA_ATR_color'])\n",
    "plt.legend(['Close','ATR'])\n",
    "\n",
    "plt.show()"
   ]
  },
  {
   "cell_type": "markdown",
   "id": "d941debe",
   "metadata": {},
   "source": [
    "#### ATR em função do preço médio\n",
    "- Comportamento um pouco caótico. Deixar o modelo (BORUTA) decidir se é importante."
   ]
  },
  {
   "cell_type": "markdown",
   "id": "9874efd3",
   "metadata": {},
   "source": [
    "### Preço de fechamento vs Forceindex"
   ]
  },
  {
   "cell_type": "code",
   "execution_count": null,
   "id": "50f426c0",
   "metadata": {
    "ExecuteTime": {
     "end_time": "2023-02-21T20:58:13.077814Z",
     "start_time": "2023-02-21T20:58:13.077804Z"
    }
   },
   "outputs": [],
   "source": [
    "# Difinindo datas de inicio e fim\n",
    "min_date = pd.to_datetime('2022-01-01 00:00:00')\n",
    "max_date = pd.to_datetime('2022-01-01 05:00:00')\n",
    "\n",
    "# Aplicando o filtro para pegar somente as datas\n",
    "df_plot = df[(df['Close_time'] >= min_date) & (df['Close_time'] <= max_date)].copy()\n",
    "\n",
    "df_plot = min_max_scaler(df_plot, 'Close')\n",
    "df_plot = min_max_scaler(df_plot, 'ForceIndex')\n",
    "df_plot = min_max_scaler(df_plot, 'ST_SMA_FI')\n",
    "\n",
    "\n",
    "# Definindo a figura para plotar\n",
    "plt.figure(figsize=(20, 8))\n",
    "sns.lineplot(x = 'Close_time', y = 'Close', data = df_plot, color = 'blue')\n",
    "sns.lineplot(x = 'Close_time', y = 'ForceIndex', data = df_plot, color = 'orange')\n",
    "sns.scatterplot(x = 'Close_time', y = 'ST_SMA_FI', data = df_plot, c = df_plot['ST_SMA_FI_color'])\n",
    "plt.legend(['Close','FI'])\n",
    "\n",
    "plt.show()"
   ]
  },
  {
   "cell_type": "markdown",
   "id": "501c7a7d",
   "metadata": {},
   "source": [
    "#### ForceIndex em função do preço médio\n",
    "- Comportamento bastante caótico. Deixar o modelo (BORUTA) decidir se é importante.   \n",
    "- Provavelmente será descartado."
   ]
  },
  {
   "cell_type": "markdown",
   "id": "0338615b",
   "metadata": {},
   "source": [
    "### Preço de fechamento vs EMV"
   ]
  },
  {
   "cell_type": "code",
   "execution_count": null,
   "id": "202b0804",
   "metadata": {
    "ExecuteTime": {
     "end_time": "2023-02-21T20:58:13.078418Z",
     "start_time": "2023-02-21T20:58:13.078409Z"
    }
   },
   "outputs": [],
   "source": [
    "# Difinindo datas de inicio e fim\n",
    "min_date = pd.to_datetime('2022-01-01 00:00:00')\n",
    "max_date = pd.to_datetime('2022-01-01 05:00:00')\n",
    "\n",
    "# Aplicando o filtro para pegar somente as datas\n",
    "df_plot = df[(df['Close_time'] >= min_date) & (df['Close_time'] <= max_date)].copy()\n",
    "\n",
    "df_plot = min_max_scaler(df_plot, 'Close')\n",
    "df_plot = min_max_scaler(df_plot, 'EMV')\n",
    "df_plot = min_max_scaler(df_plot, 'ST_SMA_EMV')\n",
    "\n",
    "\n",
    "# Definindo a figura para plotar\n",
    "plt.figure(figsize=(20, 8))\n",
    "sns.lineplot(x = 'Close_time', y = 'Close', data = df_plot, color = 'blue')\n",
    "sns.lineplot(x = 'Close_time', y = 'EMV', data = df_plot, color = 'orange')\n",
    "sns.scatterplot(x = 'Close_time', y = 'ST_SMA_EMV', data = df_plot, c = df_plot['ST_SMA_EMV_color'])\n",
    "plt.legend(['Close','EMV'])\n",
    "\n",
    "plt.show()"
   ]
  },
  {
   "cell_type": "markdown",
   "id": "aa7a9efb",
   "metadata": {},
   "source": [
    "### Overview preço Médio"
   ]
  },
  {
   "cell_type": "code",
   "execution_count": null,
   "id": "06a061e2",
   "metadata": {
    "ExecuteTime": {
     "end_time": "2023-02-21T20:58:13.079106Z",
     "start_time": "2023-02-21T20:58:13.079097Z"
    }
   },
   "outputs": [],
   "source": [
    "# Difinindo datas de inicio e fim\n",
    "min_date = pd.to_datetime('2022-01-01 00:00:00')\n",
    "max_date = pd.to_datetime('2022-01-01 05:00:00')\n",
    "\n",
    "\n",
    "# Aplicando o filtro para pegar somente as datas\n",
    "df = df[(df['Close_time'] >= min_date) & (df['Close_time'] <= max_date)].copy()\n",
    "\n",
    "# Definindo a figura para plotar\n",
    "plt.figure(figsize=(20, 10))\n",
    "\n",
    "# sns.scatterplot(x='Close_time', y='Close', data=df, c= df['ST_SMA_AP_color'])\n",
    "sns.scatterplot(x = 'Close_time', y = 'ST_SMA_Mean', data = df, c = df['ST_SMA_Mean_color'])\n",
    "sns.lineplot(x = 'Close_time', y = 'Mean', data = df, color = 'blue')\n",
    "plt.xlim(min_date, max_date)\n",
    "\n",
    "plt.show()"
   ]
  },
  {
   "cell_type": "markdown",
   "id": "a1a4ea11",
   "metadata": {
    "ExecuteTime": {
     "end_time": "2022-12-20T22:54:27.671625Z",
     "start_time": "2022-12-20T22:54:27.668754Z"
    }
   },
   "source": [
    "## Relação entre preço Médio e indicadores"
   ]
  },
  {
   "cell_type": "markdown",
   "id": "98833363",
   "metadata": {},
   "source": [
    "### Preço médio vs RSI"
   ]
  },
  {
   "cell_type": "code",
   "execution_count": null,
   "id": "b1a940c7",
   "metadata": {
    "ExecuteTime": {
     "end_time": "2023-02-21T17:56:36.692931Z",
     "start_time": "2023-02-21T17:56:36.400435Z"
    }
   },
   "outputs": [],
   "source": [
    "# Difinindo datas de inicio e fim\n",
    "min_date = pd.to_datetime('2022-01-01 00:00:00')\n",
    "max_date = pd.to_datetime('2022-01-01 05:00:00')\n",
    "\n",
    "# Aplicando o filtro para pegar somente as datas\n",
    "df_plot = df[(df['Close_time'] >= min_date) & (df['Close_time'] <= max_date)].copy()\n",
    "\n",
    "df_plot = min_max_scaler(df_plot, 'Close')\n",
    "df_plot = min_max_scaler(df_plot, 'RSI')\n",
    "df_plot = min_max_scaler(df_plot, 'ST_SMA_RSI')\n",
    "\n",
    "# Definindo a figura para plotar\n",
    "plt.figure(figsize=(20, 8))\n",
    "sns.lineplot(x = 'Close_time', y = 'Close', data = df_plot, color = 'blue')\n",
    "sns.lineplot(x = 'Close_time', y = 'RSI', data = df_plot, color = 'orange')\n",
    "sns.scatterplot(x = 'Close_time', y = 'ST_SMA_RSI', data = df_plot, c = df_plot['ST_SMA_RSI_color'])\n",
    "plt.legend(['Close','RSI'])\n",
    "\n",
    "plt.show()\n",
    "\n"
   ]
  },
  {
   "cell_type": "markdown",
   "id": "22cda3d5",
   "metadata": {},
   "source": [
    "#### Relação entre RSI e Preço de fechamento.\n",
    "- Considerando um curto período. Se o preço e o RSI oscilam juntos, se um sobe o outro sobe se um desce o outro desce.   \n",
    "- O RSI pode ter comportamento inverso do preço. Subir quando o preço está caindo ou cair quando o preço está subindo. Isso parace indicar um comportaemnto de inversão no preço."
   ]
  },
  {
   "cell_type": "markdown",
   "id": "f82c3273",
   "metadata": {},
   "source": [
    "### Preço de fechamento vs SMA"
   ]
  },
  {
   "cell_type": "code",
   "execution_count": null,
   "id": "22f9df3c",
   "metadata": {
    "ExecuteTime": {
     "end_time": "2023-02-21T17:56:38.857614Z",
     "start_time": "2023-02-21T17:56:38.573736Z"
    }
   },
   "outputs": [],
   "source": [
    "# Difinindo datas de inicio e fim\n",
    "min_date = pd.to_datetime('2022-01-01 00:00:00')\n",
    "max_date = pd.to_datetime('2022-01-01 05:00:00')\n",
    "\n",
    "# Aplicando o filtro para pegar somente as datas\n",
    "df_plot = df[(df['Close_time'] >= min_date) & (df['Close_time'] <= max_date)]\n",
    "\n",
    "# Definindo a figura para plotar \n",
    "plt.figure(figsize = (20,6))\n",
    "\n",
    "sns.lineplot(x = 'Close_time', y = 'Close', data = df_plot, color = 'blue')\n",
    "sns.lineplot(x = 'Close_time', y = 'ST_SMA', data = df_plot, color = 'green')\n",
    "sns.lineplot(x = 'Close_time', y = 'LT_SMA', data = df_plot, color = 'orange')\n",
    "plt.xlim(min_date, max_date)\n",
    "plt.legend( ['Close','ST_SMA','LT_SMA'] )\n",
    "\n",
    "plt.show()"
   ]
  },
  {
   "cell_type": "markdown",
   "id": "5f113467",
   "metadata": {},
   "source": [
    "#### Comportamento da SMA em relação ao comportamento do preço.   \n",
    "- Se ST > LT indica um movimento de alta   \n",
    "- SE ST < LT indidca um movimento de queda   \n",
    "- As inversões no preço ocorrem próximos aos cruzamentos das SMA.   \n",
    "- A diferença entre ST e LT aumenta, durante a queda, até o ponto de mínimo do preço.   \n",
    "- A diferença entre ST e LT aumenta, durante a alta, até o ponto de  máximo do preço.   "
   ]
  },
  {
   "cell_type": "markdown",
   "id": "b70b51e0",
   "metadata": {},
   "source": [
    "### Preço de fechamento vs EMA"
   ]
  },
  {
   "cell_type": "code",
   "execution_count": null,
   "id": "305104df",
   "metadata": {
    "ExecuteTime": {
     "end_time": "2023-02-21T17:56:40.826178Z",
     "start_time": "2023-02-21T17:56:40.662443Z"
    }
   },
   "outputs": [],
   "source": [
    "# Difinindo datas de inicio e fim\n",
    "min_date = pd.to_datetime('2022-01-01 00:00:00')\n",
    "max_date = pd.to_datetime('2022-01-01 05:00:00')\n",
    "\n",
    "# Aplicando o filtro para pegar somente as datas\n",
    "df_plot = df[(df['Close_time'] >= min_date) & (df['Close_time'] <= max_date)]\n",
    "\n",
    "# Definindo a figura para plotar \n",
    "plt.figure(figsize = (20,6))\n",
    "\n",
    "sns.lineplot(x = 'Close_time', y = 'Close', data = df_plot, color = 'blue')\n",
    "sns.lineplot(x = 'Close_time', y = 'ST_EMA', data = df_plot, color = 'green')\n",
    "sns.lineplot(x = 'Close_time', y = 'LT_EMA', data = df_plot, color = 'orange')\n",
    "plt.xlim(min_date, max_date)\n",
    "plt.legend( ['Close','ST_EMA','LT_EMA'] )\n",
    "\n",
    "\n",
    "plt.show()"
   ]
  },
  {
   "cell_type": "markdown",
   "id": "03f1d8a5",
   "metadata": {},
   "source": [
    "#### Comportamento da EMA em relação ao comportamento do preço.   \n",
    "- Se ST > LT indica um movimento de alta   \n",
    "- SE ST < LT indidca um movimento de queda   \n",
    "- As inversões no preço ocorrem próximos aos cruzamentos das EMA.   \n",
    "- A diferença entre ST e LT aumenta, durante a queda, até o ponto de mínimo do preço.   \n",
    "- A diferença entre ST e LT aumenta, durante a alta, até o ponto de  máximo do preço.   "
   ]
  },
  {
   "cell_type": "markdown",
   "id": "99f82982",
   "metadata": {},
   "source": [
    "### Preço de fechamento vs MACD"
   ]
  },
  {
   "cell_type": "code",
   "execution_count": null,
   "id": "d924622c",
   "metadata": {
    "ExecuteTime": {
     "end_time": "2023-02-21T17:56:45.995477Z",
     "start_time": "2023-02-21T17:56:43.600634Z"
    }
   },
   "outputs": [],
   "source": [
    "# Difinindo datas de inicio e fim\n",
    "min_date = pd.to_datetime('2022-01-01 00:00:00')\n",
    "max_date = pd.to_datetime('2022-01-01 05:00:00')\n",
    "\n",
    "# Aplicando o filtro para pegar somente as datas\n",
    "df_plot = df[(df['Close_time'] >= min_date) & (df['Close_time'] <= max_date)]\n",
    "\n",
    "# Definindo a figura para plotar \n",
    "plt.figure(figsize = (20,15))\n",
    "\n",
    "plt.subplot(3,1,1)\n",
    "sns.lineplot(x = 'Close_time', y = 'Close', data = df_plot, color = 'blue')\n",
    "plt.xlim(min_date, max_date)\n",
    "\n",
    "plt.subplot(3,1,2)\n",
    "sns.lineplot(x = 'Close_time', y = 'MACD', data = df_plot, color = 'black')\n",
    "sns.lineplot(x = 'Close_time', y = 'Trigger_Line', data = df_plot, color = 'red')\n",
    "plt.xlim(min_date, max_date)\n",
    "plt.legend( ['MACD','Trigger_Line'])\n",
    "\n",
    "plt.subplot(3,1,3)\n",
    "sns.barplot(x = 'Close_time', y = 'MADC_H', data = df_plot, color = 'orange')\n",
    "plt.xticks(color = 'white' )\n",
    "\n",
    "plt.show()"
   ]
  },
  {
   "cell_type": "markdown",
   "id": "998fc903",
   "metadata": {},
   "source": [
    "#### MACD_H em relação ao preço de fechamento.\n",
    "- Valores positivos indicam movimentos de alta.   \n",
    "- Valores negativos indicam movimentos de baixa.   \n",
    "- Os pontos de máximo estão próximos ao preços máximos.\n",
    "- Os pontos de mínimo estão próximos aos preços mínimos."
   ]
  },
  {
   "cell_type": "markdown",
   "id": "04cb5873",
   "metadata": {},
   "source": [
    "### Preço de fechamento vs MFI"
   ]
  },
  {
   "cell_type": "code",
   "execution_count": null,
   "id": "f0585af7",
   "metadata": {
    "ExecuteTime": {
     "end_time": "2023-02-21T17:56:48.039038Z",
     "start_time": "2023-02-21T17:56:47.846026Z"
    }
   },
   "outputs": [],
   "source": [
    "# Difinindo datas de inicio e fim\n",
    "min_date = pd.to_datetime('2022-01-01 00:00:00')\n",
    "max_date = pd.to_datetime('2022-01-01 05:00:00')\n",
    "\n",
    "# Aplicando o filtro para pegar somente as datas\n",
    "df_plot = df[(df['Close_time'] >= min_date) & (df['Close_time'] <= max_date)].copy()\n",
    "\n",
    "df_plot = min_max_scaler(df_plot, 'Close')\n",
    "df_plot = min_max_scaler(df_plot, 'MFI')\n",
    "df_plot = min_max_scaler(df_plot, 'ST_SMA_MFI')\n",
    "\n",
    "\n",
    "# Definindo a figura para plotar\n",
    "plt.figure(figsize=(20, 8))\n",
    "sns.lineplot(x = 'Close_time', y = 'Close', data = df_plot, color = 'blue')\n",
    "sns.lineplot(x = 'Close_time', y = 'MFI', data = df_plot, color = 'orange')\n",
    "sns.scatterplot(x = 'Close_time', y = 'ST_SMA_MFI', data = df_plot, c = df_plot['ST_SMA_MFI_color'])\n",
    "plt.legend(['Close','MFI'])\n",
    "\n",
    "plt.show()"
   ]
  },
  {
   "cell_type": "markdown",
   "id": "c655f625",
   "metadata": {},
   "source": [
    "#### MFI em função do preço médio\n",
    "- Comportamento um pouco caótico. Deixar o modelo (BORUTA) decidir se é importante."
   ]
  },
  {
   "cell_type": "markdown",
   "id": "affe4aa5",
   "metadata": {},
   "source": [
    "### Preço de fechamento vs ATR"
   ]
  },
  {
   "cell_type": "code",
   "execution_count": null,
   "id": "5f872157",
   "metadata": {
    "ExecuteTime": {
     "end_time": "2023-02-21T17:57:54.515035Z",
     "start_time": "2023-02-21T17:57:54.224752Z"
    }
   },
   "outputs": [],
   "source": [
    "# Difinindo datas de inicio e fim\n",
    "min_date = pd.to_datetime('2022-01-01 00:00:00')\n",
    "max_date = pd.to_datetime('2022-01-01 05:00:00')\n",
    "\n",
    "# Aplicando o filtro para pegar somente as datas\n",
    "df_plot = df[(df['Close_time'] >= min_date) & (df['Close_time'] <= max_date)].copy()\n",
    "\n",
    "df_plot = min_max_scaler(df_plot, 'Close')\n",
    "df_plot = min_max_scaler(df_plot, 'ATR')\n",
    "df_plot = min_max_scaler(df_plot, 'ST_SMA_ATR')\n",
    "\n",
    "\n",
    "# Definindo a figura para plotar\n",
    "plt.figure(figsize=(20, 8))\n",
    "sns.lineplot(x = 'Close_time', y = 'Close', data = df_plot, color = 'blue')\n",
    "sns.lineplot(x = 'Close_time', y = 'ATR', data = df_plot, color = 'orange')\n",
    "sns.scatterplot(x = 'Close_time', y = 'ST_SMA_ATR', data = df_plot, c = df_plot['ST_SMA_ATR_color'])\n",
    "plt.legend(['Close','ATR'])\n",
    "\n",
    "plt.show()"
   ]
  },
  {
   "cell_type": "markdown",
   "id": "5cb2a493",
   "metadata": {},
   "source": [
    "#### ATR em função do preço médio\n",
    "- Comportamento um pouco caótico. Deixar o modelo (BORUTA) decidir se é importante."
   ]
  },
  {
   "cell_type": "markdown",
   "id": "d5de1abd",
   "metadata": {},
   "source": [
    "### Preço de fechamento vs Forceindex"
   ]
  },
  {
   "cell_type": "code",
   "execution_count": null,
   "id": "56e6edbf",
   "metadata": {
    "ExecuteTime": {
     "end_time": "2023-02-21T20:13:54.947723Z",
     "start_time": "2023-02-21T20:13:54.708717Z"
    }
   },
   "outputs": [],
   "source": [
    "# Difinindo datas de inicio e fim\n",
    "min_date = pd.to_datetime('2022-01-01 00:00:00')\n",
    "max_date = pd.to_datetime('2022-01-01 05:00:00')\n",
    "\n",
    "# Aplicando o filtro para pegar somente as datas\n",
    "df_plot = df[(df['Close_time'] >= min_date) & (df['Close_time'] <= max_date)].copy()\n",
    "\n",
    "df_plot = min_max_scaler(df_plot, 'Close')\n",
    "df_plot = min_max_scaler(df_plot, 'ForceIndex')\n",
    "df_plot = min_max_scaler(df_plot, 'ST_SMA_FI')\n",
    "\n",
    "\n",
    "# Definindo a figura para plotar\n",
    "plt.figure(figsize=(20, 8))\n",
    "sns.lineplot(x = 'Close_time', y = 'Close', data = df_plot, color = 'blue')\n",
    "sns.lineplot(x = 'Close_time', y = 'ForceIndex', data = df_plot, color = 'orange')\n",
    "sns.scatterplot(x = 'Close_time', y = 'ST_SMA_FI', data = df_plot, c = df_plot['ST_SMA_FI_color'])\n",
    "plt.legend(['Close','FI'])\n",
    "\n",
    "plt.show()"
   ]
  },
  {
   "cell_type": "markdown",
   "id": "a3b31814",
   "metadata": {},
   "source": [
    "#### ForceIndex em função do preço médio\n",
    "- Comportamento bastante caótico. Deixar o modelo (BORUTA) decidir se é importante.   \n",
    "- Provavelmente será descartado."
   ]
  },
  {
   "cell_type": "markdown",
   "id": "93e08068",
   "metadata": {},
   "source": [
    "### Preço de fechamento vs EMV"
   ]
  },
  {
   "cell_type": "code",
   "execution_count": null,
   "id": "90934e83",
   "metadata": {
    "ExecuteTime": {
     "end_time": "2023-02-21T20:14:45.763021Z",
     "start_time": "2023-02-21T20:14:45.563927Z"
    }
   },
   "outputs": [],
   "source": [
    "# Difinindo datas de inicio e fim\n",
    "min_date = pd.to_datetime('2022-01-01 00:00:00')\n",
    "max_date = pd.to_datetime('2022-01-01 05:00:00')\n",
    "\n",
    "# Aplicando o filtro para pegar somente as datas\n",
    "df_plot = df[(df['Close_time'] >= min_date) & (df['Close_time'] <= max_date)].copy()\n",
    "\n",
    "df_plot = min_max_scaler(df_plot, 'Close')\n",
    "df_plot = min_max_scaler(df_plot, 'EMV')\n",
    "df_plot = min_max_scaler(df_plot, 'ST_SMA_EMV')\n",
    "\n",
    "\n",
    "# Definindo a figura para plotar\n",
    "plt.figure(figsize=(20, 8))\n",
    "sns.lineplot(x = 'Close_time', y = 'Close', data = df_plot, color = 'blue')\n",
    "sns.lineplot(x = 'Close_time', y = 'EMV', data = df_plot, color = 'orange')\n",
    "sns.scatterplot(x = 'Close_time', y = 'ST_SMA_EMV', data = df_plot, c = df_plot['ST_SMA_EMV_color'])\n",
    "plt.legend(['Close','EMV'])\n",
    "\n",
    "plt.show()"
   ]
  },
  {
   "cell_type": "markdown",
   "id": "4351e3ee",
   "metadata": {},
   "source": [
    "#### EMV em função do preço médio\n",
    "- Os máximos e os mínimos do EMV parecem coincidir com os máximos e os mínimos do preço de fechamento."
   ]
  },
  {
   "cell_type": "markdown",
   "id": "474aeece",
   "metadata": {},
   "source": [
    "#### EMV em função do preço médio\n",
    "- Os máximos e os mínimos do EMV parecem coincidir com os máximos e os mínimos do preço de fechamento."
   ]
  },
  {
   "cell_type": "markdown",
   "id": "cc3e7d36",
   "metadata": {
    "ExecuteTime": {
     "end_time": "2022-12-20T22:54:27.671625Z",
     "start_time": "2022-12-20T22:54:27.668754Z"
    }
   },
   "source": [
    "\n",
    "### Relação entre inversão de comportamento do preço e os indicadores dos a dois. Ocorre cruzamento?\n",
    "\n"
   ]
  },
  {
   "cell_type": "markdown",
   "id": "4633c74b",
   "metadata": {
    "ExecuteTime": {
     "end_time": "2022-12-20T22:54:27.671625Z",
     "start_time": "2022-12-20T22:54:27.668754Z"
    }
   },
   "source": [
    "### Estimar quais indicadores melhor indicam inversão de comportamento."
   ]
  },
  {
   "cell_type": "markdown",
   "id": "b607f073",
   "metadata": {
    "ExecuteTime": {
     "end_time": "2022-12-20T22:54:27.671625Z",
     "start_time": "2022-12-20T22:54:27.668754Z"
    }
   },
   "source": [
    "# Featrue Engineering\n"
   ]
  },
  {
   "cell_type": "markdown",
   "id": "6663ac9d",
   "metadata": {
    "ExecuteTime": {
     "end_time": "2022-12-20T22:54:27.671625Z",
     "start_time": "2022-12-20T22:54:27.668754Z"
    }
   },
   "source": [
    "### Diferença entre LT_SMA e ST_SMA "
   ]
  },
  {
   "cell_type": "markdown",
   "id": "849b7684",
   "metadata": {
    "ExecuteTime": {
     "end_time": "2022-12-20T22:54:27.671625Z",
     "start_time": "2022-12-20T22:54:27.668754Z"
    }
   },
   "source": [
    "### Diferença entre LT_EWMA e ST_EWMA"
   ]
  },
  {
   "cell_type": "markdown",
   "id": "d985b70b",
   "metadata": {
    "ExecuteTime": {
     "end_time": "2022-12-20T22:54:27.671625Z",
     "start_time": "2022-12-20T22:54:27.668754Z"
    }
   },
   "source": [
    "### sinal da inclinação para o preço e para todos os indicadores."
   ]
  },
  {
   "cell_type": "markdown",
   "id": "f493135a",
   "metadata": {
    "ExecuteTime": {
     "end_time": "2022-12-20T22:54:27.671625Z",
     "start_time": "2022-12-20T22:54:27.668754Z"
    }
   },
   "source": [
    "### Seno e Cosseno dos osciladores"
   ]
  },
  {
   "cell_type": "markdown",
   "id": "8f1b5080",
   "metadata": {
    "ExecuteTime": {
     "end_time": "2022-12-20T22:54:27.671625Z",
     "start_time": "2022-12-20T22:54:27.668754Z"
    }
   },
   "source": [
    "#### gerar três diferentes grupos de dados:\n",
    "* -5 (compra)   \n",
    "* 0 (aguarda)   \n",
    "* 5 (vende) \n"
   ]
  },
  {
   "cell_type": "markdown",
   "id": "8b441d16",
   "metadata": {
    "ExecuteTime": {
     "end_time": "2022-12-20T23:06:23.005722Z",
     "start_time": "2022-12-20T23:06:23.002825Z"
    }
   },
   "source": [
    "# Treinamento do modelo   "
   ]
  },
  {
   "cell_type": "markdown",
   "id": "f5d578a2",
   "metadata": {},
   "source": [
    "### Três estratégias:   \n",
    "1 - Classificar os dados em Compra, vende ou espera\n",
    "\n",
    "2 - Prever se o preço sobe ou desce\n",
    "\n",
    "3 - Prever o preço em análise de curto espaço de tempo.\n",
    "\n",
    "Para os três casos rodar o Biruta e registrar experimentos no ML Flow.\n"
   ]
  },
  {
   "cell_type": "markdown",
   "id": "18c58d45",
   "metadata": {
    "ExecuteTime": {
     "end_time": "2022-12-20T23:06:23.005722Z",
     "start_time": "2022-12-20T23:06:23.002825Z"
    }
   },
   "source": [
    "### Estratégias 1: Classificadores e agrupadores\n",
    "\n"
   ]
  },
  {
   "cell_type": "markdown",
   "id": "c591612f",
   "metadata": {
    "ExecuteTime": {
     "end_time": "2022-12-20T23:06:23.005722Z",
     "start_time": "2022-12-20T23:06:23.002825Z"
    }
   },
   "source": [
    "#### 1 - Kmeans "
   ]
  },
  {
   "cell_type": "markdown",
   "id": "a0ebecb3",
   "metadata": {
    "ExecuteTime": {
     "end_time": "2022-12-20T23:06:23.005722Z",
     "start_time": "2022-12-20T23:06:23.002825Z"
    }
   },
   "source": [
    "\n",
    "\n",
    "#### 2 - DB Scan"
   ]
  },
  {
   "cell_type": "markdown",
   "id": "e51088a8",
   "metadata": {
    "ExecuteTime": {
     "end_time": "2022-12-20T23:06:23.005722Z",
     "start_time": "2022-12-20T23:06:23.002825Z"
    }
   },
   "source": [
    "\n",
    "\n",
    "#### 3 - KNearst Neighboor"
   ]
  },
  {
   "cell_type": "markdown",
   "id": "a2dcb286",
   "metadata": {
    "ExecuteTime": {
     "end_time": "2022-12-20T23:06:23.005722Z",
     "start_time": "2022-12-20T23:06:23.002825Z"
    }
   },
   "source": [
    "\n",
    "\n",
    "#### 4 - Decision Tree"
   ]
  },
  {
   "cell_type": "markdown",
   "id": "f33d61d2",
   "metadata": {
    "ExecuteTime": {
     "end_time": "2022-12-20T23:06:23.005722Z",
     "start_time": "2022-12-20T23:06:23.002825Z"
    }
   },
   "source": [
    "\n",
    "\n",
    "#### 5 - Random Forest"
   ]
  },
  {
   "cell_type": "markdown",
   "id": "e0f30733",
   "metadata": {
    "ExecuteTime": {
     "end_time": "2022-12-20T23:06:23.005722Z",
     "start_time": "2022-12-20T23:06:23.002825Z"
    }
   },
   "source": [
    "\n",
    "\n",
    "#### 6 - XGBoost Classifier"
   ]
  },
  {
   "cell_type": "markdown",
   "id": "b4097f5c",
   "metadata": {
    "ExecuteTime": {
     "end_time": "2022-12-20T23:06:23.005722Z",
     "start_time": "2022-12-20T23:06:23.002825Z"
    }
   },
   "source": [
    "\n",
    "\n",
    "### Estratégia 2 Classificadores binários\n"
   ]
  },
  {
   "cell_type": "markdown",
   "id": "076eadbc",
   "metadata": {
    "ExecuteTime": {
     "end_time": "2022-12-20T23:06:23.005722Z",
     "start_time": "2022-12-20T23:06:23.002825Z"
    }
   },
   "source": [
    "\n",
    "#### Logístic Regressivo "
   ]
  },
  {
   "cell_type": "markdown",
   "id": "8497a52d",
   "metadata": {
    "ExecuteTime": {
     "end_time": "2022-12-20T23:06:23.005722Z",
     "start_time": "2022-12-20T23:06:23.002825Z"
    }
   },
   "source": [
    "\n",
    "\n",
    "#### KNearst Neighboor"
   ]
  },
  {
   "cell_type": "markdown",
   "id": "b332fc84",
   "metadata": {
    "ExecuteTime": {
     "end_time": "2022-12-20T23:06:23.005722Z",
     "start_time": "2022-12-20T23:06:23.002825Z"
    }
   },
   "source": [
    "\n",
    "\n",
    "#### Decision Tree "
   ]
  },
  {
   "cell_type": "markdown",
   "id": "4d28a36c",
   "metadata": {
    "ExecuteTime": {
     "end_time": "2022-12-20T23:06:23.005722Z",
     "start_time": "2022-12-20T23:06:23.002825Z"
    }
   },
   "source": [
    "\n",
    "\n",
    "#### Random Forest"
   ]
  },
  {
   "cell_type": "markdown",
   "id": "d30097a3",
   "metadata": {
    "ExecuteTime": {
     "end_time": "2022-12-20T23:06:23.005722Z",
     "start_time": "2022-12-20T23:06:23.002825Z"
    }
   },
   "source": [
    "\n",
    "\n",
    "#### XGBoost Classifier\n"
   ]
  },
  {
   "cell_type": "markdown",
   "id": "3608512e",
   "metadata": {
    "ExecuteTime": {
     "end_time": "2022-12-20T23:06:23.005722Z",
     "start_time": "2022-12-20T23:06:23.002825Z"
    }
   },
   "source": [
    "\n",
    "### Estratégia 3 Regressão."
   ]
  },
  {
   "cell_type": "markdown",
   "id": "2996d577",
   "metadata": {
    "ExecuteTime": {
     "end_time": "2022-12-20T23:06:23.005722Z",
     "start_time": "2022-12-20T23:06:23.002825Z"
    }
   },
   "source": [
    "\n",
    "\n",
    "#### Regressão linear"
   ]
  },
  {
   "cell_type": "markdown",
   "id": "ee18ba49",
   "metadata": {
    "ExecuteTime": {
     "end_time": "2022-12-20T23:06:23.005722Z",
     "start_time": "2022-12-20T23:06:23.002825Z"
    }
   },
   "source": [
    "\n",
    "\n",
    "#### Regressão Linear Lasso ou Ride"
   ]
  },
  {
   "cell_type": "markdown",
   "id": "b238125e",
   "metadata": {
    "ExecuteTime": {
     "end_time": "2022-12-20T23:06:23.005722Z",
     "start_time": "2022-12-20T23:06:23.002825Z"
    }
   },
   "source": [
    "\n",
    "\n",
    "#### Randon Forest"
   ]
  },
  {
   "cell_type": "markdown",
   "id": "3f0aa14a",
   "metadata": {
    "ExecuteTime": {
     "end_time": "2022-12-20T23:06:23.005722Z",
     "start_time": "2022-12-20T23:06:23.002825Z"
    }
   },
   "source": [
    "\n",
    "\n",
    "#### XGBosst Regressor"
   ]
  },
  {
   "cell_type": "markdown",
   "id": "ea47316e",
   "metadata": {
    "ExecuteTime": {
     "end_time": "2022-12-20T23:06:23.005722Z",
     "start_time": "2022-12-20T23:06:23.002825Z"
    },
    "heading_collapsed": true
   },
   "source": [
    "# Avaliação da Performance do modelo"
   ]
  },
  {
   "cell_type": "markdown",
   "id": "3f1f2a50",
   "metadata": {
    "ExecuteTime": {
     "end_time": "2022-12-20T23:06:23.005722Z",
     "start_time": "2022-12-20T23:06:23.002825Z"
    },
    "hidden": true
   },
   "source": [
    "\n",
    "\n",
    "# Finetuning (Hyper parâmetros)"
   ]
  },
  {
   "cell_type": "markdown",
   "id": "3f69b8eb",
   "metadata": {
    "ExecuteTime": {
     "end_time": "2022-12-20T23:06:23.005722Z",
     "start_time": "2022-12-20T23:06:23.002825Z"
    },
    "hidden": true
   },
   "source": [
    "\n",
    "\n",
    "### Random Search"
   ]
  },
  {
   "cell_type": "markdown",
   "id": "7ab5feb7",
   "metadata": {
    "ExecuteTime": {
     "end_time": "2022-12-20T23:06:23.005722Z",
     "start_time": "2022-12-20T23:06:23.002825Z"
    },
    "hidden": true
   },
   "source": [
    "\n",
    "\n",
    "### Ridige Search"
   ]
  },
  {
   "cell_type": "markdown",
   "id": "fcdfb1b8",
   "metadata": {
    "ExecuteTime": {
     "end_time": "2022-12-20T23:06:23.005722Z",
     "start_time": "2022-12-20T23:06:23.002825Z"
    },
    "hidden": true
   },
   "source": [
    "\n",
    "\n",
    "### Zielzera Search\n"
   ]
  },
  {
   "cell_type": "markdown",
   "id": "6bc89d0c",
   "metadata": {
    "ExecuteTime": {
     "end_time": "2022-12-20T23:06:23.005722Z",
     "start_time": "2022-12-20T23:06:23.002825Z"
    },
    "hidden": true
   },
   "source": [
    "\n",
    "\n",
    "# Reavaliação dos modelos."
   ]
  },
  {
   "cell_type": "markdown",
   "id": "07849390",
   "metadata": {
    "ExecuteTime": {
     "end_time": "2022-12-20T23:06:23.005722Z",
     "start_time": "2022-12-20T23:06:23.002825Z"
    },
    "hidden": true
   },
   "source": [
    "\n",
    "                          \n",
    "# RELATÓRIO TOP."
   ]
  },
  {
   "cell_type": "code",
   "execution_count": null,
   "id": "59661524",
   "metadata": {
    "hidden": true
   },
   "outputs": [],
   "source": []
  }
 ],
 "metadata": {
  "kernelspec": {
   "display_name": "Python 3 (ipykernel)",
   "language": "python",
   "name": "python3"
  },
  "language_info": {
   "codemirror_mode": {
    "name": "ipython",
    "version": 3
   },
   "file_extension": ".py",
   "mimetype": "text/x-python",
   "name": "python",
   "nbconvert_exporter": "python",
   "pygments_lexer": "ipython3",
   "version": "3.9.13"
  }
 },
 "nbformat": 4,
 "nbformat_minor": 5
}
