{
 "cells": [
  {
   "cell_type": "markdown",
   "id": "26c7db71",
   "metadata": {},
   "source": [
    "## Importing Libraries "
   ]
  },
  {
   "cell_type": "code",
   "execution_count": 1,
   "id": "84792bb6",
   "metadata": {
    "ExecuteTime": {
     "end_time": "2022-11-07T21:21:52.175717Z",
     "start_time": "2022-11-07T21:21:51.597861Z"
    }
   },
   "outputs": [
    {
     "ename": "ModuleNotFoundError",
     "evalue": "No module named 'azure'",
     "output_type": "error",
     "traceback": [
      "\u001b[0;31m---------------------------------------------------------------------------\u001b[0m",
      "\u001b[0;31mModuleNotFoundError\u001b[0m                       Traceback (most recent call last)",
      "Input \u001b[0;32mIn [1]\u001b[0m, in \u001b[0;36m<cell line: 1>\u001b[0;34m()\u001b[0m\n\u001b[0;32m----> 1\u001b[0m \u001b[38;5;28;01mfrom\u001b[39;00m \u001b[38;5;21;01mazure\u001b[39;00m\u001b[38;5;21;01m.\u001b[39;00m\u001b[38;5;21;01mcosmos\u001b[39;00m\u001b[38;5;21;01m.\u001b[39;00m\u001b[38;5;21;01maio\u001b[39;00m \u001b[38;5;28;01mimport\u001b[39;00m CosmosClient \u001b[38;5;28;01mas\u001b[39;00m cosmos_client\n\u001b[1;32m      2\u001b[0m \u001b[38;5;28;01mfrom\u001b[39;00m \u001b[38;5;21;01mazure\u001b[39;00m\u001b[38;5;21;01m.\u001b[39;00m\u001b[38;5;21;01mcosmos\u001b[39;00m \u001b[38;5;28;01mimport\u001b[39;00m PartitionKey, exceptions\n",
      "\u001b[0;31mModuleNotFoundError\u001b[0m: No module named 'azure'"
     ]
    }
   ],
   "source": [
    "from azure.cosmos.aio import CosmosClient as cosmos_client\n",
    "from azure.cosmos import PartitionKey, exceptions"
   ]
  },
  {
   "cell_type": "code",
   "execution_count": 3,
   "id": "3d7c4a61",
   "metadata": {
    "ExecuteTime": {
     "end_time": "2022-11-07T19:21:03.202249Z",
     "start_time": "2022-11-07T19:21:01.844087Z"
    }
   },
   "outputs": [
    {
     "name": "stdout",
     "output_type": "stream",
     "text": [
      "Requirement already satisfied: azure-cosmos in ./CripytoBot_venv/lib/python3.8/site-packages (4.3.0)\n",
      "Requirement already satisfied: aiohttp in ./CripytoBot_venv/lib/python3.8/site-packages (3.8.3)\n",
      "Requirement already satisfied: azure-core<2.0.0,>=1.23.0 in ./CripytoBot_venv/lib/python3.8/site-packages (from azure-cosmos) (1.26.0)\n",
      "Requirement already satisfied: attrs>=17.3.0 in ./CripytoBot_venv/lib/python3.8/site-packages (from aiohttp) (22.1.0)\n",
      "Requirement already satisfied: yarl<2.0,>=1.0 in ./CripytoBot_venv/lib/python3.8/site-packages (from aiohttp) (1.8.1)\n",
      "Requirement already satisfied: frozenlist>=1.1.1 in ./CripytoBot_venv/lib/python3.8/site-packages (from aiohttp) (1.3.1)\n",
      "Requirement already satisfied: multidict<7.0,>=4.5 in ./CripytoBot_venv/lib/python3.8/site-packages (from aiohttp) (6.0.2)\n",
      "Requirement already satisfied: charset-normalizer<3.0,>=2.0 in ./CripytoBot_venv/lib/python3.8/site-packages (from aiohttp) (2.1.1)\n",
      "Requirement already satisfied: aiosignal>=1.1.2 in ./CripytoBot_venv/lib/python3.8/site-packages (from aiohttp) (1.2.0)\n",
      "Requirement already satisfied: async-timeout<5.0,>=4.0.0a3 in ./CripytoBot_venv/lib/python3.8/site-packages (from aiohttp) (4.0.2)\n",
      "Requirement already satisfied: six>=1.11.0 in ./CripytoBot_venv/lib/python3.8/site-packages (from azure-core<2.0.0,>=1.23.0->azure-cosmos) (1.16.0)\n",
      "Requirement already satisfied: requests>=2.18.4 in ./CripytoBot_venv/lib/python3.8/site-packages (from azure-core<2.0.0,>=1.23.0->azure-cosmos) (2.28.1)\n",
      "Requirement already satisfied: typing-extensions>=4.0.1 in ./CripytoBot_venv/lib/python3.8/site-packages (from azure-core<2.0.0,>=1.23.0->azure-cosmos) (4.4.0)\n",
      "Requirement already satisfied: idna>=2.0 in ./CripytoBot_venv/lib/python3.8/site-packages (from yarl<2.0,>=1.0->aiohttp) (3.4)\n",
      "Requirement already satisfied: urllib3<1.27,>=1.21.1 in ./CripytoBot_venv/lib/python3.8/site-packages (from requests>=2.18.4->azure-core<2.0.0,>=1.23.0->azure-cosmos) (1.26.12)\n",
      "Requirement already satisfied: certifi>=2017.4.17 in ./CripytoBot_venv/lib/python3.8/site-packages (from requests>=2.18.4->azure-core<2.0.0,>=1.23.0->azure-cosmos) (2022.9.24)\n"
     ]
    }
   ],
   "source": [
    "!pip install azure-cosmos aiohttp"
   ]
  },
  {
   "cell_type": "code",
   "execution_count": null,
   "id": "ceacf0c0",
   "metadata": {},
   "outputs": [],
   "source": []
  }
 ],
 "metadata": {
  "kernelspec": {
   "display_name": "Python 3 (ipykernel)",
   "language": "python",
   "name": "python3"
  },
  "language_info": {
   "codemirror_mode": {
    "name": "ipython",
    "version": 3
   },
   "file_extension": ".py",
   "mimetype": "text/x-python",
   "name": "python",
   "nbconvert_exporter": "python",
   "pygments_lexer": "ipython3",
   "version": "3.8.10"
  }
 },
 "nbformat": 4,
 "nbformat_minor": 5
}
